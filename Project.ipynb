{
 "cells": [
  {
   "attachments": {},
   "cell_type": "markdown",
   "metadata": {},
   "source": [
    "# Proyecto Integrador IV\n",
    "> E-Commerce Data Pipeline\n",
    "\n",
    "En este notebook, primero ejecutaremos todos los componentes de nuestro pipeline ELT y luego realizaremos visualizaciones con la información resultante\n"
   ]
  },
  {
   "cell_type": "code",
   "execution_count": 1,
   "metadata": {},
   "outputs": [],
   "source": [
    "# Importing the necessary libraries\n",
    "from pandas import DataFrame\n",
    "from sqlalchemy import create_engine\n",
    "from typing import Dict\n",
    "from pathlib import Path\n",
    "\n",
    "from src.transform import QueryEnum\n",
    "from src import config\n",
    "from src.transform import run_queries\n",
    "from src.extract import extract\n",
    "from src.load import load\n",
    "from src.config import get_csv_to_table_mapping\n",
    "from src.plots import (\n",
    "    plot_freight_value_weight_relationship,\n",
    "    plot_global_amount_order_status,\n",
    "    plot_real_vs_predicted_delivered_time,\n",
    "    plot_revenue_by_month_year,\n",
    "    plot_revenue_per_state,\n",
    "    plot_top_10_least_revenue_categories,\n",
    "    plot_top_10_revenue_categories,\n",
    "    plot_top_10_revenue_categories_ammount,\n",
    "    plot_delivery_date_difference,\n",
    "    plot_order_amount_per_day_with_holidays,\n",
    ")"
   ]
  },
  {
   "cell_type": "code",
   "execution_count": 2,
   "metadata": {},
   "outputs": [],
   "source": [
    "# Create the database sql file\n",
    "Path(config.SQLITE_BD_ABSOLUTE_PATH).touch()\n",
    "\n",
    "# Create the database connection\n",
    "ENGINE = create_engine(rf\"sqlite:///{config.SQLITE_BD_ABSOLUTE_PATH}\", echo=False)"
   ]
  },
  {
   "attachments": {},
   "cell_type": "markdown",
   "metadata": {},
   "source": [
    "### 1. Extract"
   ]
  },
  {
   "attachments": {},
   "cell_type": "markdown",
   "metadata": {},
   "source": [
    "Aquí estarás extrayendo la información de las fuentes."
   ]
  },
  {
   "cell_type": "code",
   "execution_count": 3,
   "metadata": {},
   "outputs": [],
   "source": [
    "import os\n",
    "\n",
    "csv_folder = config.DATASET_ROOT_PATH\n",
    "public_holidays_url = config.PUBLIC_HOLIDAYS_URL\n",
    "\n",
    "csv_table_mapping = config.get_csv_to_table_mapping()\n",
    "\n",
    "for csv_file in csv_table_mapping.keys():\n",
    "    file_path = os.path.join(csv_folder, csv_file)\n",
    "    if not os.path.exists(file_path):\n",
    "        raise FileNotFoundError(f\"No such file or directory: '{(file_path)}'\")\n",
    "\n",
    "csv_dataframes = extract(csv_folder, csv_table_mapping, public_holidays_url)"
   ]
  },
  {
   "attachments": {},
   "cell_type": "markdown",
   "metadata": {},
   "source": [
    "### 2. Load"
   ]
  },
  {
   "attachments": {},
   "cell_type": "markdown",
   "metadata": {},
   "source": [
    "Usando los diferentes conjuntos de datos proporcionados, almacenarás todo en nuestro Data Warehouse."
   ]
  },
  {
   "cell_type": "code",
   "execution_count": 4,
   "metadata": {},
   "outputs": [
    {
     "name": "stdout",
     "output_type": "stream",
     "text": [
      "La carpeta 'data' ya existe.\n"
     ]
    }
   ],
   "source": [
    "# Crear carpeta 'data' si no existe\n",
    "if not os.path.exists(\"data\"):\n",
    "    os.makedirs(\"data\")\n",
    "    print(\"Carpeta 'data' creada exitosamente.\")\n",
    "else:\n",
    "    print(\"La carpeta 'data' ya existe.\")"
   ]
  },
  {
   "cell_type": "code",
   "execution_count": 5,
   "metadata": {},
   "outputs": [
    {
     "name": "stdout",
     "output_type": "stream",
     "text": [
      "Conexión a la base de datos establecida exitosamente.\n",
      "Tabla 'olist_customers' cargada exitosamente.\n",
      "Tabla 'olist_geolocation' cargada exitosamente.\n",
      "Tabla 'olist_order_items' cargada exitosamente.\n",
      "Tabla 'olist_order_payments' cargada exitosamente.\n",
      "Tabla 'olist_order_reviews' cargada exitosamente.\n",
      "Tabla 'olist_orders' cargada exitosamente.\n",
      "Tabla 'olist_products' cargada exitosamente.\n",
      "Tabla 'olist_sellers' cargada exitosamente.\n",
      "Tabla 'product_category_name_translation' cargada exitosamente.\n",
      "Tabla 'public_holidays' cargada exitosamente.\n"
     ]
    }
   ],
   "source": [
    "from src.load import get_database_connection, load\n",
    "\n",
    "database_url = \"sqlite:///data/olist.db\"\n",
    "database = get_database_connection(database_url) \n",
    "\n",
    "load(csv_dataframes, database)"
   ]
  },
  {
   "cell_type": "code",
   "execution_count": 6,
   "metadata": {},
   "outputs": [],
   "source": [
    "from sqlalchemy import create_engine\n",
    "\n",
    "DB_PATH = \"data/olist.db\"\n",
    "\n",
    "# Crear conexión con SQLAlchemy\n",
    "ENGINE = create_engine(f\"sqlite:///{DB_PATH}\", echo=True)\n"
   ]
  },
  {
   "cell_type": "code",
   "execution_count": 7,
   "metadata": {},
   "outputs": [],
   "source": [
    "import pandas as pd\n",
    "\n",
    "# Cargar los CSV en DataFrames\n",
    "df_orders = pd.read_csv(\"dataset/olist_orders_dataset.csv\")\n",
    "df_customers = pd.read_csv(\"dataset/olist_customers_dataset.csv\")\n",
    "df_geolocation = pd.read_csv(\"dataset/olist_geolocation_dataset.csv\")\n",
    "df_order_items = pd.read_csv(\"dataset/olist_order_items_dataset.csv\")\n",
    "df_order_payments = pd.read_csv(\"dataset/olist_order_payments_dataset.csv\")\n",
    "df_order_reviews = pd.read_csv(\"dataset/olist_order_reviews_dataset.csv\")\n",
    "df_products = pd.read_csv(\"dataset/olist_products_dataset.csv\")\n",
    "df_sellers = pd.read_csv(\"dataset/olist_sellers_dataset.csv\")\n",
    "df_category_translation = pd.read_csv(\"dataset/product_category_name_translation.csv\")\n",
    "\n"
   ]
  },
  {
   "cell_type": "code",
   "execution_count": 8,
   "metadata": {},
   "outputs": [],
   "source": [
    "# Convertir 'order_purchase_timestamp' a datetime en df_orders\n",
    "df_orders[\"order_purchase_timestamp\"] = pd.to_datetime(df_orders[\"order_purchase_timestamp\"], errors=\"coerce\")"
   ]
  },
  {
   "cell_type": "code",
   "execution_count": 9,
   "metadata": {},
   "outputs": [
    {
     "name": "stdout",
     "output_type": "stream",
     "text": [
      "2025-03-14 15:43:08,511 INFO sqlalchemy.engine.Engine PRAGMA main.table_info(\"olist_orders_dataset\")\n",
      "2025-03-14 15:43:08,513 INFO sqlalchemy.engine.Engine [raw sql] ()\n",
      "2025-03-14 15:43:08,517 INFO sqlalchemy.engine.Engine PRAGMA temp.table_info(\"olist_orders_dataset\")\n",
      "2025-03-14 15:43:08,518 INFO sqlalchemy.engine.Engine [raw sql] ()\n",
      "2025-03-14 15:43:08,520 INFO sqlalchemy.engine.Engine BEGIN (implicit)\n",
      "2025-03-14 15:43:08,522 INFO sqlalchemy.engine.Engine \n",
      "CREATE TABLE olist_orders_dataset (\n",
      "\torder_id TEXT, \n",
      "\tcustomer_id TEXT, \n",
      "\torder_status TEXT, \n",
      "\torder_purchase_timestamp DATETIME, \n",
      "\torder_approved_at TEXT, \n",
      "\torder_delivered_carrier_date TEXT, \n",
      "\torder_delivered_customer_date TEXT, \n",
      "\torder_estimated_delivery_date TEXT\n",
      ")\n",
      "\n",
      "\n",
      "2025-03-14 15:43:08,524 INFO sqlalchemy.engine.Engine [no key 0.00184s] ()\n",
      "2025-03-14 15:43:08,531 INFO sqlalchemy.engine.Engine COMMIT\n",
      "2025-03-14 15:43:08,631 INFO sqlalchemy.engine.Engine BEGIN (implicit)\n",
      "2025-03-14 15:43:09,649 INFO sqlalchemy.engine.Engine INSERT INTO olist_orders_dataset (order_id, customer_id, order_status, order_purchase_timestamp, order_approved_at, order_delivered_carrier_date, order_delivered_customer_date, order_estimated_delivery_date) VALUES (?, ?, ?, ?, ?, ?, ?, ?)\n",
      "2025-03-14 15:43:09,651 INFO sqlalchemy.engine.Engine [generated in 0.91729s] (('e481f51cbdc54678b7cc49136f2d6af7', '9ef432eb6251297304e76186b10a928d', 'delivered', '2017-10-02 10:56:33.000000', '2017-10-02 11:07:15', '2017-10-04 19:55:00', '2017-10-10 21:25:13', '2017-10-18 00:00:00'), ('53cdb2fc8bc7dce0b6741e2150273451', 'b0830fb4747a6c6d20dea0b8c802d7ef', 'delivered', '2018-07-24 20:41:37.000000', '2018-07-26 03:24:27', '2018-07-26 14:31:00', '2018-08-07 15:27:45', '2018-08-13 00:00:00'), ('47770eb9100c2d0c44946d9cf07ec65d', '41ce2a54c0b03bf3443c3d931a367089', 'delivered', '2018-08-08 08:38:49.000000', '2018-08-08 08:55:23', '2018-08-08 13:50:00', '2018-08-17 18:06:29', '2018-09-04 00:00:00'), ('949d5b44dbf5de918fe9c16f97b45f8a', 'f88197465ea7920adcdbec7375364d82', 'delivered', '2017-11-18 19:28:06.000000', '2017-11-18 19:45:59', '2017-11-22 13:39:59', '2017-12-02 00:28:42', '2017-12-15 00:00:00'), ('ad21c59c0840e6cb83a9ceb5573f8159', '8ab97904e6daea8866dbdbc4fb7aad2c', 'delivered', '2018-02-13 21:18:39.000000', '2018-02-13 22:20:29', '2018-02-14 19:46:34', '2018-02-16 18:17:02', '2018-02-26 00:00:00'), ('a4591c265e18cb1dcee52889e2d8acc3', '503740e9ca751ccdda7ba28e9ab8f608', 'delivered', '2017-07-09 21:57:05.000000', '2017-07-09 22:10:13', '2017-07-11 14:58:04', '2017-07-26 10:57:55', '2017-08-01 00:00:00'), ('136cce7faa42fdb2cefd53fdc79a6098', 'ed0271e0b7da060a393796590e7b737a', 'invoiced', '2017-04-11 12:22:08.000000', '2017-04-13 13:25:17', None, None, '2017-05-09 00:00:00'), ('6514b8ad8028c9f2cc2374ded245783f', '9bdf08b4b3b52b5526ff42d37d47f222', 'delivered', '2017-05-16 13:10:30.000000', '2017-05-16 13:22:11', '2017-05-22 10:07:46', '2017-05-26 12:55:51', '2017-06-07 00:00:00')  ... displaying 10 of 99441 total bound parameter sets ...  ('11c177c8e97725db2631073c19f07b62', 'b331b74b18dc79bcdf6532d51e1637c1', 'delivered', '2018-01-08 21:28:27.000000', '2018-01-08 21:36:21', '2018-01-12 15:35:03', '2018-01-25 23:32:54', '2018-02-15 00:00:00'), ('66dea50a8b16d9b4dee7af250b4be1a5', 'edb027a75a1449115f6b43211ae02a24', 'delivered', '2018-03-08 20:57:30.000000', '2018-03-09 11:20:28', '2018-03-09 22:11:59', '2018-03-16 13:08:30', '2018-04-03 00:00:00'))\n",
      "2025-03-14 15:43:09,994 INFO sqlalchemy.engine.Engine COMMIT\n",
      "2025-03-14 15:43:10,063 INFO sqlalchemy.engine.Engine PRAGMA main.table_info(\"olist_customers_dataset\")\n",
      "2025-03-14 15:43:10,064 INFO sqlalchemy.engine.Engine [raw sql] ()\n",
      "2025-03-14 15:43:10,068 INFO sqlalchemy.engine.Engine PRAGMA temp.table_info(\"olist_customers_dataset\")\n",
      "2025-03-14 15:43:10,070 INFO sqlalchemy.engine.Engine [raw sql] ()\n",
      "2025-03-14 15:43:10,074 INFO sqlalchemy.engine.Engine BEGIN (implicit)\n",
      "2025-03-14 15:43:10,076 INFO sqlalchemy.engine.Engine \n",
      "CREATE TABLE olist_customers_dataset (\n",
      "\tcustomer_id TEXT, \n",
      "\tcustomer_unique_id TEXT, \n",
      "\tcustomer_zip_code_prefix BIGINT, \n",
      "\tcustomer_city TEXT, \n",
      "\tcustomer_state TEXT\n",
      ")\n",
      "\n",
      "\n",
      "2025-03-14 15:43:10,077 INFO sqlalchemy.engine.Engine [no key 0.00148s] ()\n",
      "2025-03-14 15:43:10,100 INFO sqlalchemy.engine.Engine COMMIT\n",
      "2025-03-14 15:43:10,128 INFO sqlalchemy.engine.Engine BEGIN (implicit)\n",
      "2025-03-14 15:43:10,773 INFO sqlalchemy.engine.Engine INSERT INTO olist_customers_dataset (customer_id, customer_unique_id, customer_zip_code_prefix, customer_city, customer_state) VALUES (?, ?, ?, ?, ?)\n",
      "2025-03-14 15:43:10,774 INFO sqlalchemy.engine.Engine [generated in 0.57336s] (('06b8999e2fba1a1fbc88172c00ba8bc7', '861eff4711a542e4b93843c6dd7febb0', 14409, 'franca', 'SP'), ('18955e83d337fd6b2def6b18a428ac77', '290c77bc529b7ac935b93aa66c333dc3', 9790, 'sao bernardo do campo', 'SP'), ('4e7b3e00288586ebd08712fdd0374a03', '060e732b5b29e8181a18229c7b0b2b5e', 1151, 'sao paulo', 'SP'), ('b2b6027bc5c5109e529d4dc6358b12c3', '259dac757896d24d7702b9acbbff3f3c', 8775, 'mogi das cruzes', 'SP'), ('4f2d8ab171c80ec8364f7c12e35b23ad', '345ecd01c38d18a9036ed96c73b8d066', 13056, 'campinas', 'SP'), ('879864dab9bc3047522c92c82e1212b8', '4c93744516667ad3b8f1fb645a3116a4', 89254, 'jaragua do sul', 'SC'), ('fd826e7cf63160e536e0908c76c3f441', 'addec96d2e059c80c30fe6871d30d177', 4534, 'sao paulo', 'SP'), ('5e274e7a0c3809e14aba7ad5aae0d407', '57b2a98a409812fe9618067b6b8ebe4f', 35182, 'timoteo', 'MG')  ... displaying 10 of 99441 total bound parameter sets ...  ('56b18e2166679b8a959d72dd06da27f9', '73c2643a0a458b49f58cea58833b192e', 92120, 'canoas', 'RS'), ('274fa6071e5e17fe303b9748641082c8', '84732c5050c01db9b23e19ba39899398', 6703, 'cotia', 'SP'))\n",
      "2025-03-14 15:43:10,946 INFO sqlalchemy.engine.Engine COMMIT\n",
      "2025-03-14 15:43:10,997 INFO sqlalchemy.engine.Engine PRAGMA main.table_info(\"olist_geolocation_dataset\")\n",
      "2025-03-14 15:43:10,998 INFO sqlalchemy.engine.Engine [raw sql] ()\n",
      "2025-03-14 15:43:11,001 INFO sqlalchemy.engine.Engine PRAGMA temp.table_info(\"olist_geolocation_dataset\")\n",
      "2025-03-14 15:43:11,002 INFO sqlalchemy.engine.Engine [raw sql] ()\n",
      "2025-03-14 15:43:11,004 INFO sqlalchemy.engine.Engine BEGIN (implicit)\n",
      "2025-03-14 15:43:11,005 INFO sqlalchemy.engine.Engine \n",
      "CREATE TABLE olist_geolocation_dataset (\n",
      "\tgeolocation_zip_code_prefix BIGINT, \n",
      "\tgeolocation_lat FLOAT, \n",
      "\tgeolocation_lng FLOAT, \n",
      "\tgeolocation_city TEXT, \n",
      "\tgeolocation_state TEXT\n",
      ")\n",
      "\n",
      "\n",
      "2025-03-14 15:43:11,006 INFO sqlalchemy.engine.Engine [no key 0.00064s] ()\n",
      "2025-03-14 15:43:11,012 INFO sqlalchemy.engine.Engine COMMIT\n",
      "2025-03-14 15:43:11,189 INFO sqlalchemy.engine.Engine BEGIN (implicit)\n",
      "2025-03-14 15:43:16,398 INFO sqlalchemy.engine.Engine INSERT INTO olist_geolocation_dataset (geolocation_zip_code_prefix, geolocation_lat, geolocation_lng, geolocation_city, geolocation_state) VALUES (?, ?, ?, ?, ?)\n",
      "2025-03-14 15:43:16,399 INFO sqlalchemy.engine.Engine [generated in 4.49378s] ((1037, -23.54562128115268, -46.63929204800168, 'sao paulo', 'SP'), (1046, -23.54608112703553, -46.64482029837157, 'sao paulo', 'SP'), (1046, -23.54612896641469, -46.64295148361138, 'sao paulo', 'SP'), (1041, -23.5443921648681, -46.63949930627844, 'sao paulo', 'SP'), (1035, -23.541577961711493, -46.64160722329613, 'sao paulo', 'SP'), (1012, -23.547762303364262, -46.63536053788448, 'são paulo', 'SP'), (1047, -23.54627311241268, -46.64122516971552, 'sao paulo', 'SP'), (1013, -23.546923208436723, -46.6342636964915, 'sao paulo', 'SP')  ... displaying 10 of 1000163 total bound parameter sets ...  (99980, -28.38893187660049, -51.84687132274168, 'david canabarro', 'RS'), (99950, -28.07010363149126, -52.01865772856674, 'tapejara', 'RS'))\n",
      "2025-03-14 15:43:17,843 INFO sqlalchemy.engine.Engine COMMIT\n",
      "2025-03-14 15:43:18,014 INFO sqlalchemy.engine.Engine PRAGMA main.table_info(\"olist_order_items_dataset\")\n",
      "2025-03-14 15:43:18,015 INFO sqlalchemy.engine.Engine [raw sql] ()\n",
      "2025-03-14 15:43:18,016 INFO sqlalchemy.engine.Engine PRAGMA temp.table_info(\"olist_order_items_dataset\")\n",
      "2025-03-14 15:43:18,017 INFO sqlalchemy.engine.Engine [raw sql] ()\n",
      "2025-03-14 15:43:18,019 INFO sqlalchemy.engine.Engine BEGIN (implicit)\n",
      "2025-03-14 15:43:18,020 INFO sqlalchemy.engine.Engine \n",
      "CREATE TABLE olist_order_items_dataset (\n",
      "\torder_id TEXT, \n",
      "\torder_item_id BIGINT, \n",
      "\tproduct_id TEXT, \n",
      "\tseller_id TEXT, \n",
      "\tshipping_limit_date TEXT, \n",
      "\tprice FLOAT, \n",
      "\tfreight_value FLOAT\n",
      ")\n",
      "\n",
      "\n",
      "2025-03-14 15:43:18,021 INFO sqlalchemy.engine.Engine [no key 0.00086s] ()\n",
      "2025-03-14 15:43:18,031 INFO sqlalchemy.engine.Engine COMMIT\n",
      "2025-03-14 15:43:18,065 INFO sqlalchemy.engine.Engine BEGIN (implicit)\n",
      "2025-03-14 15:43:18,929 INFO sqlalchemy.engine.Engine INSERT INTO olist_order_items_dataset (order_id, order_item_id, product_id, seller_id, shipping_limit_date, price, freight_value) VALUES (?, ?, ?, ?, ?, ?, ?)\n",
      "2025-03-14 15:43:18,930 INFO sqlalchemy.engine.Engine [generated in 0.76071s] (('00010242fe8c5a6d1ba2dd792cb16214', 1, '4244733e06e7ecb4970a6e2683c13e61', '48436dade18ac8b2bce089ec2a041202', '2017-09-19 09:45:35', 58.9, 13.29), ('00018f77f2f0320c557190d7a144bdd3', 1, 'e5f2d52b802189ee658865ca93d83a8f', 'dd7ddc04e1b6c2c614352b383efe2d36', '2017-05-03 11:05:13', 239.9, 19.93), ('000229ec398224ef6ca0657da4fc703e', 1, 'c777355d18b72b67abbeef9df44fd0fd', '5b51032eddd242adc84c38acab88f23d', '2018-01-18 14:48:30', 199.0, 17.87), ('00024acbcdf0a6daa1e931b038114c75', 1, '7634da152a4610f1595efa32f14722fc', '9d7a1d34a5052409006425275ba1c2b4', '2018-08-15 10:10:18', 12.99, 12.79), ('00042b26cf59d7ce69dfabb4e55b4fd9', 1, 'ac6c3623068f30de03045865e4e10089', 'df560393f3a51e74553ab94004ba5c87', '2017-02-13 13:57:51', 199.9, 18.14), ('00048cc3ae777c65dbb7d2a0634bc1ea', 1, 'ef92defde845ab8450f9d70c526ef70f', '6426d21aca402a131fc0a5d0960a3c90', '2017-05-23 03:55:27', 21.9, 12.69), ('00054e8431b9d7675808bcb819fb4a32', 1, '8d4f2bb7e93e6710a28f34fa83ee7d28', '7040e82f899a04d1b434b795a43b4617', '2017-12-14 12:10:31', 19.9, 11.85), ('000576fe39319847cbb9d288c5617fa6', 1, '557d850972a7d6f792fd18ae1400d9b6', '5996cddab893a4652a15592fb58ab8db', '2018-07-10 12:30:45', 810.0, 70.75)  ... displaying 10 of 112650 total bound parameter sets ...  ('fffe18544ffabc95dfada21779c9644f', 1, '9c422a519119dcad7575db5af1ba540e', '2b3e4a2a3ea8e01938cabda2a3e5cc79', '2017-08-21 00:04:32', 55.99, 8.72), ('fffe41c64501cc87c801fd61db3f6244', 1, '350688d9dc1e75ff97be326363655e01', 'f7ccf836d21b2fb1de37564105216cc1', '2018-06-12 17:10:13', 43.0, 12.79))\n",
      "2025-03-14 15:43:19,168 INFO sqlalchemy.engine.Engine COMMIT\n",
      "2025-03-14 15:43:19,220 INFO sqlalchemy.engine.Engine PRAGMA main.table_info(\"olist_order_payments_dataset\")\n",
      "2025-03-14 15:43:19,222 INFO sqlalchemy.engine.Engine [raw sql] ()\n",
      "2025-03-14 15:43:19,226 INFO sqlalchemy.engine.Engine PRAGMA temp.table_info(\"olist_order_payments_dataset\")\n",
      "2025-03-14 15:43:19,228 INFO sqlalchemy.engine.Engine [raw sql] ()\n",
      "2025-03-14 15:43:19,233 INFO sqlalchemy.engine.Engine BEGIN (implicit)\n",
      "2025-03-14 15:43:19,235 INFO sqlalchemy.engine.Engine \n",
      "CREATE TABLE olist_order_payments_dataset (\n",
      "\torder_id TEXT, \n",
      "\tpayment_sequential BIGINT, \n",
      "\tpayment_type TEXT, \n",
      "\tpayment_installments BIGINT, \n",
      "\tpayment_value FLOAT\n",
      ")\n",
      "\n",
      "\n",
      "2025-03-14 15:43:19,237 INFO sqlalchemy.engine.Engine [no key 0.00234s] ()\n",
      "2025-03-14 15:43:19,252 INFO sqlalchemy.engine.Engine COMMIT\n",
      "2025-03-14 15:43:19,287 INFO sqlalchemy.engine.Engine BEGIN (implicit)\n",
      "2025-03-14 15:43:19,808 INFO sqlalchemy.engine.Engine INSERT INTO olist_order_payments_dataset (order_id, payment_sequential, payment_type, payment_installments, payment_value) VALUES (?, ?, ?, ?, ?)\n",
      "2025-03-14 15:43:19,809 INFO sqlalchemy.engine.Engine [generated in 0.45122s] (('b81ef226f3fe1789b1e8b2acac839d17', 1, 'credit_card', 8, 99.33), ('a9810da82917af2d9aefd1278f1dcfa0', 1, 'credit_card', 1, 24.39), ('25e8ea4e93396b6fa0d3dd708e76c1bd', 1, 'credit_card', 1, 65.71), ('ba78997921bbcdc1373bb41e913ab953', 1, 'credit_card', 8, 107.78), ('42fdf880ba16b47b59251dd489d4441a', 1, 'credit_card', 2, 128.45), ('298fcdf1f73eb413e4d26d01b25bc1cd', 1, 'credit_card', 2, 96.12), ('771ee386b001f06208a7419e4fc1bbd7', 1, 'credit_card', 1, 81.16), ('3d7239c394a212faae122962df514ac7', 1, 'credit_card', 3, 51.84)  ... displaying 10 of 103886 total bound parameter sets ...  ('b8b61059626efa996a60be9bb9320e10', 1, 'credit_card', 5, 369.54), ('28bbae6599b09d39ca406b747b6632b1', 1, 'boleto', 1, 191.58))\n",
      "2025-03-14 15:43:20,025 INFO sqlalchemy.engine.Engine COMMIT\n",
      "2025-03-14 15:43:20,064 INFO sqlalchemy.engine.Engine PRAGMA main.table_info(\"olist_order_reviews_dataset\")\n",
      "2025-03-14 15:43:20,065 INFO sqlalchemy.engine.Engine [raw sql] ()\n",
      "2025-03-14 15:43:20,067 INFO sqlalchemy.engine.Engine PRAGMA temp.table_info(\"olist_order_reviews_dataset\")\n",
      "2025-03-14 15:43:20,067 INFO sqlalchemy.engine.Engine [raw sql] ()\n",
      "2025-03-14 15:43:20,069 INFO sqlalchemy.engine.Engine BEGIN (implicit)\n",
      "2025-03-14 15:43:20,070 INFO sqlalchemy.engine.Engine \n",
      "CREATE TABLE olist_order_reviews_dataset (\n",
      "\treview_id TEXT, \n",
      "\torder_id TEXT, \n",
      "\treview_score BIGINT, \n",
      "\treview_comment_title TEXT, \n",
      "\treview_comment_message TEXT, \n",
      "\treview_creation_date TEXT, \n",
      "\treview_answer_timestamp TEXT\n",
      ")\n",
      "\n",
      "\n",
      "2025-03-14 15:43:20,071 INFO sqlalchemy.engine.Engine [no key 0.00062s] ()\n",
      "2025-03-14 15:43:20,078 INFO sqlalchemy.engine.Engine COMMIT\n",
      "2025-03-14 15:43:20,115 INFO sqlalchemy.engine.Engine BEGIN (implicit)\n",
      "2025-03-14 15:43:20,761 INFO sqlalchemy.engine.Engine INSERT INTO olist_order_reviews_dataset (review_id, order_id, review_score, review_comment_title, review_comment_message, review_creation_date, review_answer_timestamp) VALUES (?, ?, ?, ?, ?, ?, ?)\n",
      "2025-03-14 15:43:20,762 INFO sqlalchemy.engine.Engine [generated in 0.54650s] (('7bc2406110b926393aa56f80a40eba40', '73fc7af87114b39712e6da79b0a377eb', 4, None, None, '2018-01-18 00:00:00', '2018-01-18 21:46:59'), ('80e641a11e56f04c1ad469d5645fdfde', 'a548910a1c6147796b98fdf73dbeba33', 5, None, None, '2018-03-10 00:00:00', '2018-03-11 03:05:13'), ('228ce5500dc1d8e020d8d1322874b6f0', 'f9e4b658b201a9f2ecdecbb34bed034b', 5, None, None, '2018-02-17 00:00:00', '2018-02-18 14:36:24'), ('e64fb393e7b32834bb789ff8bb30750e', '658677c97b385a9be170737859d3511b', 5, None, 'Recebi bem antes do prazo estipulado.', '2017-04-21 00:00:00', '2017-04-21 22:02:06'), ('f7c4243c7fe1938f181bec41a392bdeb', '8e6bfb81e283fa7e4f11123a3fb894f1', 5, None, 'Parabéns lojas lannister adorei comprar pela Internet seguro e prático Parabéns a todos feliz Páscoa', '2018-03-01 00:00:00', '2018-03-02 10:26:53'), ('15197aa66ff4d0650b5434f1b46cda19', 'b18dcdf73be66366873cd26c5724d1dc', 1, None, None, '2018-04-13 00:00:00', '2018-04-16 00:39:37'), ('07f9bee5d1b850860defd761afa7ff16', 'e48aa0d2dcec3a2e87348811bcfdf22b', 5, None, None, '2017-07-16 00:00:00', '2017-07-18 19:30:34'), ('7c6400515c67679fbee952a7525281ef', 'c31a859e34e3adac22f376954e19b39d', 5, None, None, '2018-08-14 00:00:00', '2018-08-14 21:36:06')  ... displaying 10 of 99224 total bound parameter sets ...  ('1adeb9d84d72fe4e337617733eb85149', '7725825d039fc1f0ceb7635e3f7d9206', 4, None, None, '2018-07-01 00:00:00', '2018-07-02 12:59:13'), ('efe49f1d6f951dd88b51e6ccd4cc548f', '90531360ecb1eec2a1fbb265a0db0508', 1, None, 'meu produto chegou e ja tenho que devolver, pois está com defeito , não segurar carga', '2017-07-03 00:00:00', '2017-07-03 21:01:49'))\n",
      "2025-03-14 15:43:21,079 INFO sqlalchemy.engine.Engine COMMIT\n",
      "2025-03-14 15:43:21,130 INFO sqlalchemy.engine.Engine PRAGMA main.table_info(\"olist_products_dataset\")\n",
      "2025-03-14 15:43:21,131 INFO sqlalchemy.engine.Engine [raw sql] ()\n",
      "2025-03-14 15:43:21,133 INFO sqlalchemy.engine.Engine PRAGMA temp.table_info(\"olist_products_dataset\")\n",
      "2025-03-14 15:43:21,135 INFO sqlalchemy.engine.Engine [raw sql] ()\n",
      "2025-03-14 15:43:21,138 INFO sqlalchemy.engine.Engine BEGIN (implicit)\n",
      "2025-03-14 15:43:21,140 INFO sqlalchemy.engine.Engine \n",
      "CREATE TABLE olist_products_dataset (\n",
      "\tproduct_id TEXT, \n",
      "\tproduct_category_name TEXT, \n",
      "\tproduct_name_lenght FLOAT, \n",
      "\tproduct_description_lenght FLOAT, \n",
      "\tproduct_photos_qty FLOAT, \n",
      "\tproduct_weight_g FLOAT, \n",
      "\tproduct_length_cm FLOAT, \n",
      "\tproduct_height_cm FLOAT, \n",
      "\tproduct_width_cm FLOAT\n",
      ")\n",
      "\n",
      "\n",
      "2025-03-14 15:43:21,141 INFO sqlalchemy.engine.Engine [no key 0.00129s] ()\n",
      "2025-03-14 15:43:21,154 INFO sqlalchemy.engine.Engine COMMIT\n",
      "2025-03-14 15:43:21,183 INFO sqlalchemy.engine.Engine BEGIN (implicit)\n",
      "2025-03-14 15:43:21,500 INFO sqlalchemy.engine.Engine INSERT INTO olist_products_dataset (product_id, product_category_name, product_name_lenght, product_description_lenght, product_photos_qty, product_weight_g, product_length_cm, product_height_cm, product_width_cm) VALUES (?, ?, ?, ?, ?, ?, ?, ?, ?)\n",
      "2025-03-14 15:43:21,501 INFO sqlalchemy.engine.Engine [generated in 0.27775s] (('1e9e8ef04dbcff4541ed26657ea517e5', 'perfumaria', 40.0, 287.0, 1.0, 225.0, 16.0, 10.0, 14.0), ('3aa071139cb16b67ca9e5dea641aaa2f', 'artes', 44.0, 276.0, 1.0, 1000.0, 30.0, 18.0, 20.0), ('96bd76ec8810374ed1b65e291975717f', 'esporte_lazer', 46.0, 250.0, 1.0, 154.0, 18.0, 9.0, 15.0), ('cef67bcfe19066a932b7673e239eb23d', 'bebes', 27.0, 261.0, 1.0, 371.0, 26.0, 4.0, 26.0), ('9dc1a7de274444849c219cff195d0b71', 'utilidades_domesticas', 37.0, 402.0, 4.0, 625.0, 20.0, 17.0, 13.0), ('41d3672d4792049fa1779bb35283ed13', 'instrumentos_musicais', 60.0, 745.0, 1.0, 200.0, 38.0, 5.0, 11.0), ('732bd381ad09e530fe0a5f457d81becb', 'cool_stuff', 56.0, 1272.0, 4.0, 18350.0, 70.0, 24.0, 44.0), ('2548af3e6e77a690cf3eb6368e9ab61e', 'moveis_decoracao', 56.0, 184.0, 2.0, 900.0, 40.0, 8.0, 40.0)  ... displaying 10 of 32951 total bound parameter sets ...  ('83808703fc0706a22e264b9d75f04a2e', 'informatica_acessorios', 60.0, 156.0, 2.0, 700.0, 31.0, 13.0, 20.0), ('106392145fca363410d287a815be6de4', 'cama_mesa_banho', 58.0, 309.0, 1.0, 2083.0, 12.0, 2.0, 7.0))\n",
      "2025-03-14 15:43:21,567 INFO sqlalchemy.engine.Engine COMMIT\n",
      "2025-03-14 15:43:21,589 INFO sqlalchemy.engine.Engine PRAGMA main.table_info(\"olist_sellers_dataset\")\n",
      "2025-03-14 15:43:21,590 INFO sqlalchemy.engine.Engine [raw sql] ()\n",
      "2025-03-14 15:43:21,591 INFO sqlalchemy.engine.Engine PRAGMA temp.table_info(\"olist_sellers_dataset\")\n",
      "2025-03-14 15:43:21,592 INFO sqlalchemy.engine.Engine [raw sql] ()\n",
      "2025-03-14 15:43:21,595 INFO sqlalchemy.engine.Engine BEGIN (implicit)\n",
      "2025-03-14 15:43:21,596 INFO sqlalchemy.engine.Engine \n",
      "CREATE TABLE olist_sellers_dataset (\n",
      "\tseller_id TEXT, \n",
      "\tseller_zip_code_prefix BIGINT, \n",
      "\tseller_city TEXT, \n",
      "\tseller_state TEXT\n",
      ")\n",
      "\n",
      "\n",
      "2025-03-14 15:43:21,598 INFO sqlalchemy.engine.Engine [no key 0.00145s] ()\n",
      "2025-03-14 15:43:21,605 INFO sqlalchemy.engine.Engine COMMIT\n",
      "2025-03-14 15:43:21,609 INFO sqlalchemy.engine.Engine BEGIN (implicit)\n",
      "2025-03-14 15:43:21,623 INFO sqlalchemy.engine.Engine INSERT INTO olist_sellers_dataset (seller_id, seller_zip_code_prefix, seller_city, seller_state) VALUES (?, ?, ?, ?)\n",
      "2025-03-14 15:43:21,624 INFO sqlalchemy.engine.Engine [generated in 0.01018s] (('3442f8959a84dea7ee197c632cb2df15', 13023, 'campinas', 'SP'), ('d1b65fc7debc3361ea86b5f14c68d2e2', 13844, 'mogi guacu', 'SP'), ('ce3ad9de960102d0677a81f5d0bb7b2d', 20031, 'rio de janeiro', 'RJ'), ('c0f3eea2e14555b6faeea3dd58c1b1c3', 4195, 'sao paulo', 'SP'), ('51a04a8a6bdcb23deccc82b0b80742cf', 12914, 'braganca paulista', 'SP'), ('c240c4061717ac1806ae6ee72be3533b', 20920, 'rio de janeiro', 'RJ'), ('e49c26c3edfa46d227d5121a6b6e4d37', 55325, 'brejao', 'PE'), ('1b938a7ec6ac5061a66a3766e0e75f90', 16304, 'penapolis', 'SP')  ... displaying 10 of 3095 total bound parameter sets ...  ('e603cf3fec55f8697c9059638d6c8eb5', 96080, 'pelotas', 'RS'), ('9e25199f6ef7e7c347120ff175652c3b', 12051, 'taubate', 'SP'))\n",
      "2025-03-14 15:43:21,631 INFO sqlalchemy.engine.Engine COMMIT\n",
      "2025-03-14 15:43:21,644 INFO sqlalchemy.engine.Engine PRAGMA main.table_info(\"product_category_name_translation\")\n",
      "2025-03-14 15:43:21,646 INFO sqlalchemy.engine.Engine [raw sql] ()\n",
      "2025-03-14 15:43:21,650 INFO sqlalchemy.engine.Engine PRAGMA main.table_info(\"product_category_name_translation\")\n",
      "2025-03-14 15:43:21,651 INFO sqlalchemy.engine.Engine [raw sql] ()\n",
      "2025-03-14 15:43:21,653 INFO sqlalchemy.engine.Engine SELECT name FROM sqlite_master WHERE type='table' ORDER BY name\n",
      "2025-03-14 15:43:21,654 INFO sqlalchemy.engine.Engine [raw sql] ()\n",
      "2025-03-14 15:43:21,655 INFO sqlalchemy.engine.Engine PRAGMA main.table_xinfo(\"product_category_name_translation\")\n",
      "2025-03-14 15:43:21,656 INFO sqlalchemy.engine.Engine [raw sql] ()\n",
      "2025-03-14 15:43:21,658 INFO sqlalchemy.engine.Engine SELECT sql FROM  (SELECT * FROM sqlite_master UNION ALL   SELECT * FROM sqlite_temp_master) WHERE name = ? AND type = 'table'\n",
      "2025-03-14 15:43:21,659 INFO sqlalchemy.engine.Engine [raw sql] ('product_category_name_translation',)\n",
      "2025-03-14 15:43:21,662 INFO sqlalchemy.engine.Engine PRAGMA main.foreign_key_list(\"product_category_name_translation\")\n",
      "2025-03-14 15:43:21,663 INFO sqlalchemy.engine.Engine [raw sql] ()\n",
      "2025-03-14 15:43:21,665 INFO sqlalchemy.engine.Engine PRAGMA temp.foreign_key_list(\"product_category_name_translation\")\n",
      "2025-03-14 15:43:21,667 INFO sqlalchemy.engine.Engine [raw sql] ()\n",
      "2025-03-14 15:43:21,668 INFO sqlalchemy.engine.Engine SELECT sql FROM  (SELECT * FROM sqlite_master UNION ALL   SELECT * FROM sqlite_temp_master) WHERE name = ? AND type = 'table'\n",
      "2025-03-14 15:43:21,668 INFO sqlalchemy.engine.Engine [raw sql] ('product_category_name_translation',)\n",
      "2025-03-14 15:43:21,671 INFO sqlalchemy.engine.Engine PRAGMA main.index_list(\"product_category_name_translation\")\n",
      "2025-03-14 15:43:21,672 INFO sqlalchemy.engine.Engine [raw sql] ()\n",
      "2025-03-14 15:43:21,673 INFO sqlalchemy.engine.Engine PRAGMA temp.index_list(\"product_category_name_translation\")\n",
      "2025-03-14 15:43:21,674 INFO sqlalchemy.engine.Engine [raw sql] ()\n",
      "2025-03-14 15:43:21,677 INFO sqlalchemy.engine.Engine PRAGMA main.index_list(\"product_category_name_translation\")\n",
      "2025-03-14 15:43:21,678 INFO sqlalchemy.engine.Engine [raw sql] ()\n",
      "2025-03-14 15:43:21,679 INFO sqlalchemy.engine.Engine PRAGMA temp.index_list(\"product_category_name_translation\")\n",
      "2025-03-14 15:43:21,680 INFO sqlalchemy.engine.Engine [raw sql] ()\n",
      "2025-03-14 15:43:21,682 INFO sqlalchemy.engine.Engine SELECT sql FROM  (SELECT * FROM sqlite_master UNION ALL   SELECT * FROM sqlite_temp_master) WHERE name = ? AND type = 'table'\n",
      "2025-03-14 15:43:21,684 INFO sqlalchemy.engine.Engine [raw sql] ('product_category_name_translation',)\n",
      "2025-03-14 15:43:21,688 INFO sqlalchemy.engine.Engine BEGIN (implicit)\n",
      "2025-03-14 15:43:21,690 INFO sqlalchemy.engine.Engine \n",
      "DROP TABLE product_category_name_translation\n",
      "2025-03-14 15:43:21,690 INFO sqlalchemy.engine.Engine [no key 0.00099s] ()\n",
      "2025-03-14 15:43:21,698 INFO sqlalchemy.engine.Engine COMMIT\n",
      "2025-03-14 15:43:21,702 INFO sqlalchemy.engine.Engine BEGIN (implicit)\n",
      "2025-03-14 15:43:21,704 INFO sqlalchemy.engine.Engine \n",
      "CREATE TABLE product_category_name_translation (\n",
      "\tproduct_category_name TEXT, \n",
      "\tproduct_category_name_english TEXT\n",
      ")\n",
      "\n",
      "\n",
      "2025-03-14 15:43:21,705 INFO sqlalchemy.engine.Engine [no key 0.00078s] ()\n",
      "2025-03-14 15:43:21,712 INFO sqlalchemy.engine.Engine COMMIT\n",
      "2025-03-14 15:43:21,719 INFO sqlalchemy.engine.Engine BEGIN (implicit)\n",
      "2025-03-14 15:43:21,721 INFO sqlalchemy.engine.Engine INSERT INTO product_category_name_translation (product_category_name, product_category_name_english) VALUES (?, ?)\n",
      "2025-03-14 15:43:21,722 INFO sqlalchemy.engine.Engine [generated in 0.00151s] (('beleza_saude', 'health_beauty'), ('informatica_acessorios', 'computers_accessories'), ('automotivo', 'auto'), ('cama_mesa_banho', 'bed_bath_table'), ('moveis_decoracao', 'furniture_decor'), ('esporte_lazer', 'sports_leisure'), ('perfumaria', 'perfumery'), ('utilidades_domesticas', 'housewares')  ... displaying 10 of 71 total bound parameter sets ...  ('fashion_roupa_infanto_juvenil', 'fashion_childrens_clothes'), ('seguros_e_servicos', 'security_and_services'))\n",
      "2025-03-14 15:43:21,725 INFO sqlalchemy.engine.Engine COMMIT\n"
     ]
    },
    {
     "data": {
      "text/plain": [
       "71"
      ]
     },
     "execution_count": 9,
     "metadata": {},
     "output_type": "execute_result"
    }
   ],
   "source": [
    "# Cargar los DataFrames en SQLite\n",
    "df_orders.to_sql(\"olist_orders_dataset\", ENGINE, if_exists=\"replace\", index=False)\n",
    "df_customers.to_sql(\"olist_customers_dataset\", ENGINE, if_exists=\"replace\", index=False)\n",
    "df_geolocation.to_sql(\"olist_geolocation_dataset\", ENGINE, if_exists=\"replace\", index=False)\n",
    "df_order_items.to_sql(\"olist_order_items_dataset\", ENGINE, if_exists=\"replace\", index=False)\n",
    "df_order_payments.to_sql(\"olist_order_payments_dataset\", ENGINE, if_exists=\"replace\", index=False)\n",
    "df_order_reviews.to_sql(\"olist_order_reviews_dataset\", ENGINE, if_exists=\"replace\", index=False)\n",
    "df_products.to_sql(\"olist_products_dataset\", ENGINE, if_exists=\"replace\", index=False)\n",
    "df_sellers.to_sql(\"olist_sellers_dataset\", ENGINE, if_exists=\"replace\", index=False)\n",
    "df_category_translation.to_sql(\"product_category_name_translation\", ENGINE, if_exists=\"replace\", index=False)"
   ]
  },
  {
   "cell_type": "code",
   "execution_count": 10,
   "metadata": {},
   "outputs": [
    {
     "name": "stdout",
     "output_type": "stream",
     "text": [
      "2025-03-14 15:43:25,705 INFO sqlalchemy.engine.Engine PRAGMA main.table_info(\"SELECT COUNT(*) FROM olist_customers_dataset\")\n",
      "2025-03-14 15:43:25,706 INFO sqlalchemy.engine.Engine [raw sql] ()\n",
      "2025-03-14 15:43:25,710 INFO sqlalchemy.engine.Engine PRAGMA temp.table_info(\"SELECT COUNT(*) FROM olist_customers_dataset\")\n",
      "2025-03-14 15:43:25,712 INFO sqlalchemy.engine.Engine [raw sql] ()\n",
      "2025-03-14 15:43:25,717 INFO sqlalchemy.engine.Engine SELECT COUNT(*) FROM olist_customers_dataset\n",
      "2025-03-14 15:43:25,719 INFO sqlalchemy.engine.Engine [raw sql] ()\n",
      "   COUNT(*)\n",
      "0     99441\n"
     ]
    }
   ],
   "source": [
    "import pandas as pd\n",
    "\n",
    "query = \"SELECT COUNT(*) FROM olist_customers_dataset\"\n",
    "df = pd.read_sql(query, ENGINE)\n",
    "print(df)\n"
   ]
  },
  {
   "attachments": {},
   "cell_type": "markdown",
   "metadata": {},
   "source": [
    "### 3. Transform"
   ]
  },
  {
   "attachments": {},
   "cell_type": "markdown",
   "metadata": {},
   "source": [
    "Aquí transformarás las diferentes consultas en tablas. Hay dos secciones: una con las consultas relacionadas con los ingresos y otra con las consultas relacionadas con las entregas."
   ]
  },
  {
   "attachments": {},
   "cell_type": "markdown",
   "metadata": {},
   "source": [
    "##### 3.1 Queries sobre ingresos"
   ]
  },
  {
   "cell_type": "code",
   "execution_count": 11,
   "metadata": {},
   "outputs": [
    {
     "name": "stdout",
     "output_type": "stream",
     "text": [
      "2025-03-14 15:43:29,518 INFO sqlalchemy.engine.Engine -- TODO: Esta consulta devolverá una tabla con dos columnas: Estado y \n",
      "-- Diferencia_Entrega. La primera contendrá las letras que identifican los \n",
      "-- estados, y la segunda mostrará la diferencia promedio entre la fecha estimada \n",
      "-- de entrega y la fecha en la que los productos fueron realmente entregados al \n",
      "-- cliente.\n",
      "-- PISTAS:\n",
      "-- 1. Puedes usar la función julianday para convertir una fecha a un número.\n",
      "-- 2. Puedes usar la función CAST para convertir un número a un entero.\n",
      "-- 3. Puedes usar la función STRFTIME para convertir order_delivered_customer_date a una cadena, eliminando horas, minutos y segundos.\n",
      "-- 4. order_status == 'delivered' AND order_delivered_customer_date IS NOT NULL\n",
      "\n",
      "SELECT \n",
      "    order_status AS Estado,\n",
      "    AVG(julianday(order_delivered_customer_date) - julianday(order_estimated_delivery_date)) AS Diferencia_Entrega\n",
      "FROM olist_orders_dataset\n",
      "WHERE order_status = 'delivered' AND order_delivered_customer_date IS NOT NULL\n",
      "GROUP BY order_status;\n",
      "2025-03-14 15:43:29,520 INFO sqlalchemy.engine.Engine [generated in 0.00174s] ()\n",
      "2025-03-14 15:43:29,589 INFO sqlalchemy.engine.Engine -- TODO: Esta consulta devolverá una tabla con dos columnas: estado_pedido y\n",
      "-- Cantidad. La primera contendrá las diferentes clases de estado de los pedidos,\n",
      "-- y la segunda mostrará el total de cada uno.\n",
      "\n",
      "SELECT \n",
      "    order_status AS estado_pedido,\n",
      "    COUNT(order_id) AS Cantidad\n",
      "FROM olist_orders_dataset\n",
      "GROUP BY order_status;\n",
      "2025-03-14 15:43:29,590 INFO sqlalchemy.engine.Engine [generated in 0.00158s] ()\n",
      "2025-03-14 15:43:29,661 INFO sqlalchemy.engine.Engine -- TODO: Esta consulta devolverá una tabla con los ingresos por mes y año.\n",
      "-- Tendrá varias columnas: month_no, con los números de mes del 01 al 12;\n",
      "-- month, con las primeras 3 letras de cada mes (ej. Ene, Feb);\n",
      "-- Year2016, con los ingresos por mes de 2016 (0.00 si no existe);\n",
      "-- Year2017, con los ingresos por mes de 2017 (0.00 si no existe); y\n",
      "-- Year2018, con los ingresos por mes de 2018 (0.00 si no existe).\n",
      "\n",
      "\n",
      "SELECT \n",
      "    strftime('%m', order_purchase_timestamp) AS month_no,\n",
      "    strftime('%b', order_purchase_timestamp) AS month,\n",
      "    SUM(CASE WHEN strftime('%Y', order_purchase_timestamp) = '2016' THEN price + freight_value ELSE 0 END) AS Year2016,\n",
      "    SUM(CASE WHEN strftime('%Y', order_purchase_timestamp) = '2017' THEN price + freight_value ELSE 0 END) AS Year2017,\n",
      "    SUM(CASE WHEN strftime('%Y', order_purchase_timestamp) = '2018' THEN price + freight_value ELSE 0 END) AS Year2018\n",
      "FROM olist_order_items_dataset AS items\n",
      "JOIN olist_orders_dataset AS orders ON items.order_id = orders.order_id\n",
      "WHERE orders.order_status = 'delivered'\n",
      "GROUP BY month_no, month;\n",
      "\n",
      "2025-03-14 15:43:29,662 INFO sqlalchemy.engine.Engine [generated in 0.00115s] ()\n",
      "2025-03-14 15:43:30,510 INFO sqlalchemy.engine.Engine -- TODO: Esta consulta devolverá una tabla con dos columnas; customer_state y Revenue.\n",
      "-- La primera contendrá las abreviaturas que identifican a los 10 estados con mayores ingresos,\n",
      "-- y la segunda mostrará el ingreso total de cada uno.\n",
      "-- PISTA: Todos los pedidos deben tener un estado \"delivered\" y la fecha real de entrega no debe ser nula.\n",
      "\n",
      "\n",
      "SELECT \n",
      "    customers.customer_state AS customer_state,\n",
      "    SUM(items.price + items.freight_value) AS Revenue\n",
      "FROM olist_orders_dataset AS orders\n",
      "JOIN olist_customers_dataset AS customers ON orders.customer_id = customers.customer_id\n",
      "JOIN olist_order_items_dataset AS items ON orders.order_id = items.order_id\n",
      "WHERE orders.order_status = 'delivered' AND orders.order_delivered_customer_date IS NOT NULL\n",
      "GROUP BY customer_state\n",
      "ORDER BY Revenue DESC\n",
      "LIMIT 10;\n",
      "\n",
      "2025-03-14 15:43:30,511 INFO sqlalchemy.engine.Engine [generated in 0.00080s] ()\n",
      "2025-03-14 15:43:31,885 INFO sqlalchemy.engine.Engine -- TODO: Esta consulta devolverá una tabla con las 10 categorías con menores ingresos\n",
      "-- (en inglés), el número de pedidos y sus ingresos totales. La primera columna será\n",
      "-- Category, que contendrá las 10 categorías con menores ingresos; la segunda será\n",
      "-- Num_order, con el total de pedidos de cada categoría; y la última será Revenue,\n",
      "-- con el ingreso total de cada categoría.\n",
      "-- PISTA: Todos los pedidos deben tener un estado 'delivered' y tanto la categoría\n",
      "-- como la fecha real de entrega no deben ser nulas.\n",
      "\n",
      "\n",
      "SELECT \n",
      "    translation.product_category_name_english AS Category,\n",
      "    COUNT(DISTINCT items.order_id) AS Num_order,\n",
      "    SUM(items.price + items.freight_value) AS Revenue\n",
      "FROM olist_orders_dataset AS orders\n",
      "JOIN olist_order_items_dataset AS items ON orders.order_id = items.order_id\n",
      "JOIN olist_products_dataset AS products ON items.product_id = products.product_id\n",
      "JOIN product_category_name_translation AS translation ON products.product_category_name = translation.product_category_name\n",
      "WHERE orders.order_status = 'delivered' AND orders.order_delivered_customer_date IS NOT NULL\n",
      "GROUP BY Category\n",
      "ORDER BY Revenue ASC\n",
      "LIMIT 10;\n",
      "\n",
      "2025-03-14 15:43:31,885 INFO sqlalchemy.engine.Engine [generated in 0.00089s] ()\n",
      "2025-03-14 15:43:33,011 INFO sqlalchemy.engine.Engine -- TODO: Esta consulta devolverá una tabla con las 10 categorías con mayores ingresos\n",
      "-- (en inglés), el número de pedidos y sus ingresos totales. La primera columna será\n",
      "-- Category, que contendrá las 10 categorías con mayores ingresos; la segunda será\n",
      "-- Num_order, con el total de pedidos de cada categoría; y la última será Revenue,\n",
      "-- con el ingreso total de cada categoría.\n",
      "-- PISTA: Todos los pedidos deben tener un estado 'delivered' y tanto la categoría\n",
      "-- como la fecha real de entrega no deben ser nulas.\n",
      "\n",
      "\n",
      "SELECT \n",
      "    translation.product_category_name_english AS Category,\n",
      "    COUNT(DISTINCT items.order_id) AS Num_order,\n",
      "    SUM(items.price + items.freight_value) AS Revenue\n",
      "FROM olist_orders_dataset AS orders\n",
      "JOIN olist_order_items_dataset AS items ON orders.order_id = items.order_id\n",
      "JOIN olist_products_dataset AS products ON items.product_id = products.product_id\n",
      "JOIN product_category_name_translation AS translation ON products.product_category_name = translation.product_category_name\n",
      "WHERE orders.order_status = 'delivered' AND orders.order_delivered_customer_date IS NOT NULL\n",
      "GROUP BY Category\n",
      "ORDER BY Revenue DESC\n",
      "LIMIT 10;\n",
      "\n",
      "2025-03-14 15:43:33,012 INFO sqlalchemy.engine.Engine [generated in 0.00112s] ()\n",
      "2025-03-14 15:43:34,175 INFO sqlalchemy.engine.Engine -- TODO: Esta consulta devolverá una tabla con las diferencias entre los tiempos \n",
      "-- reales y estimados de entrega por mes y año. Tendrá varias columnas: \n",
      "-- month_no, con los números de mes del 01 al 12; month, con las primeras 3 letras \n",
      "-- de cada mes (ej. Ene, Feb); Year2016_real_time, con el tiempo promedio de \n",
      "-- entrega real por mes de 2016 (NaN si no existe); Year2017_real_time, con el \n",
      "-- tiempo promedio de entrega real por mes de 2017 (NaN si no existe); \n",
      "-- Year2018_real_time, con el tiempo promedio de entrega real por mes de 2018 \n",
      "-- (NaN si no existe); Year2016_estimated_time, con el tiempo promedio estimado \n",
      "-- de entrega por mes de 2016 (NaN si no existe); Year2017_estimated_time, con \n",
      "-- el tiempo promedio estimado de entrega por mes de 2017 (NaN si no existe); y \n",
      "-- Year2018_estimated_time, con el tiempo promedio estimado de entrega por mes \n",
      "-- de 2018 (NaN si no existe).\n",
      "-- PISTAS:\n",
      "-- 1. Puedes usar la función julianday para convertir una fecha a un número.\n",
      "-- 2. order_status == 'delivered' AND order_delivered_customer_date IS NOT NULL\n",
      "-- 3. Considera tomar order_id distintos.\n",
      "\n",
      "\n",
      "SELECT \n",
      "    strftime('%m', order_delivered_customer_date) AS month_no,\n",
      "    strftime('%b', order_delivered_customer_date) AS month,\n",
      "    AVG(CASE WHEN strftime('%Y', order_delivered_customer_date) = '2016' \n",
      "             THEN julianday(order_delivered_customer_date) - julianday(order_purchase_timestamp) END) AS Year2016_real_time,\n",
      "    AVG(CASE WHEN strftime('%Y', order_delivered_customer_date) = '2017' \n",
      "             THEN julianday(order_delivered_customer_date) - julianday(order_purchase_timestamp) END) AS Year2017_real_time,\n",
      "    AVG(CASE WHEN strftime('%Y', order_delivered_customer_date) = '2018' \n",
      "             THEN julianday(order_delivered_customer_date) - julianday(order_purchase_timestamp) END) AS Year2018_real_time,\n",
      "    AVG(CASE WHEN strftime('%Y', order_delivered_customer_date) = '2016' \n",
      "             THEN julianday(order_estimated_delivery_date) - julianday(order_purchase_timestamp) END) AS Year2016_estimated_time,\n",
      "    AVG(CASE WHEN strftime('%Y', order_delivered_customer_date) = '2017' \n",
      "             THEN julianday(order_estimated_delivery_date) - julianday(order_purchase_timestamp) END) AS Year2017_estimated_time,\n",
      "    AVG(CASE WHEN strftime('%Y', order_delivered_customer_date) = '2018' \n",
      "             THEN julianday(order_estimated_delivery_date) - julianday(order_purchase_timestamp) END) AS Year2018_estimated_time\n",
      "FROM olist_orders_dataset\n",
      "WHERE order_status = 'delivered' AND order_delivered_customer_date IS NOT NULL\n",
      "GROUP BY month_no, month;\n",
      "2025-03-14 15:43:34,176 INFO sqlalchemy.engine.Engine [generated in 0.00094s] ()\n",
      "2025-03-14 15:43:34,568 INFO sqlalchemy.engine.Engine PRAGMA main.table_info(\"SELECT * FROM public_holidays\")\n",
      "2025-03-14 15:43:34,569 INFO sqlalchemy.engine.Engine [raw sql] ()\n",
      "2025-03-14 15:43:34,571 INFO sqlalchemy.engine.Engine PRAGMA temp.table_info(\"SELECT * FROM public_holidays\")\n",
      "2025-03-14 15:43:34,572 INFO sqlalchemy.engine.Engine [raw sql] ()\n",
      "2025-03-14 15:43:34,574 INFO sqlalchemy.engine.Engine SELECT * FROM public_holidays\n",
      "2025-03-14 15:43:34,575 INFO sqlalchemy.engine.Engine [raw sql] ()\n",
      "2025-03-14 15:43:34,579 INFO sqlalchemy.engine.Engine PRAGMA main.table_info(\"SELECT order_id, order_purchase_timestamp FROM olist_orders\")\n",
      "2025-03-14 15:43:34,580 INFO sqlalchemy.engine.Engine [raw sql] ()\n",
      "2025-03-14 15:43:34,581 INFO sqlalchemy.engine.Engine PRAGMA temp.table_info(\"SELECT order_id, order_purchase_timestamp FROM olist_orders\")\n",
      "2025-03-14 15:43:34,582 INFO sqlalchemy.engine.Engine [raw sql] ()\n",
      "2025-03-14 15:43:34,584 INFO sqlalchemy.engine.Engine SELECT order_id, order_purchase_timestamp FROM olist_orders\n",
      "2025-03-14 15:43:34,585 INFO sqlalchemy.engine.Engine [raw sql] ()\n",
      "2025-03-14 15:43:34,976 INFO sqlalchemy.engine.Engine PRAGMA main.table_info(\"SELECT * FROM olist_orders\")\n",
      "2025-03-14 15:43:34,977 INFO sqlalchemy.engine.Engine [raw sql] ()\n",
      "2025-03-14 15:43:34,979 INFO sqlalchemy.engine.Engine PRAGMA temp.table_info(\"SELECT * FROM olist_orders\")\n",
      "2025-03-14 15:43:34,979 INFO sqlalchemy.engine.Engine [raw sql] ()\n",
      "2025-03-14 15:43:34,981 INFO sqlalchemy.engine.Engine SELECT * FROM olist_orders\n",
      "2025-03-14 15:43:34,982 INFO sqlalchemy.engine.Engine [raw sql] ()\n",
      "2025-03-14 15:43:35,590 INFO sqlalchemy.engine.Engine PRAGMA main.table_info(\"SELECT * FROM olist_order_items\")\n",
      "2025-03-14 15:43:35,592 INFO sqlalchemy.engine.Engine [raw sql] ()\n",
      "2025-03-14 15:43:35,594 INFO sqlalchemy.engine.Engine PRAGMA temp.table_info(\"SELECT * FROM olist_order_items\")\n",
      "2025-03-14 15:43:35,595 INFO sqlalchemy.engine.Engine [raw sql] ()\n",
      "2025-03-14 15:43:35,598 INFO sqlalchemy.engine.Engine SELECT * FROM olist_order_items\n",
      "2025-03-14 15:43:35,599 INFO sqlalchemy.engine.Engine [raw sql] ()\n",
      "2025-03-14 15:43:36,292 INFO sqlalchemy.engine.Engine PRAGMA main.table_info(\"SELECT * FROM olist_products\")\n",
      "2025-03-14 15:43:36,293 INFO sqlalchemy.engine.Engine [raw sql] ()\n",
      "2025-03-14 15:43:36,296 INFO sqlalchemy.engine.Engine PRAGMA temp.table_info(\"SELECT * FROM olist_products\")\n",
      "2025-03-14 15:43:36,297 INFO sqlalchemy.engine.Engine [raw sql] ()\n",
      "2025-03-14 15:43:36,299 INFO sqlalchemy.engine.Engine SELECT * FROM olist_products\n",
      "2025-03-14 15:43:36,301 INFO sqlalchemy.engine.Engine [raw sql] ()\n"
     ]
    }
   ],
   "source": [
    "query_results: Dict[str, DataFrame] = run_queries(database=ENGINE)"
   ]
  },
  {
   "cell_type": "code",
   "execution_count": 12,
   "metadata": {},
   "outputs": [
    {
     "data": {
      "text/html": [
       "<div>\n",
       "<style scoped>\n",
       "    .dataframe tbody tr th:only-of-type {\n",
       "        vertical-align: middle;\n",
       "    }\n",
       "\n",
       "    .dataframe tbody tr th {\n",
       "        vertical-align: top;\n",
       "    }\n",
       "\n",
       "    .dataframe thead th {\n",
       "        text-align: right;\n",
       "    }\n",
       "</style>\n",
       "<table border=\"1\" class=\"dataframe\">\n",
       "  <thead>\n",
       "    <tr style=\"text-align: right;\">\n",
       "      <th></th>\n",
       "      <th>month_no</th>\n",
       "      <th>month</th>\n",
       "      <th>Year2016</th>\n",
       "      <th>Year2017</th>\n",
       "      <th>Year2018</th>\n",
       "    </tr>\n",
       "  </thead>\n",
       "  <tbody>\n",
       "    <tr>\n",
       "      <th>0</th>\n",
       "      <td>01</td>\n",
       "      <td>None</td>\n",
       "      <td>0.00</td>\n",
       "      <td>127482.37</td>\n",
       "      <td>1077887.46</td>\n",
       "    </tr>\n",
       "    <tr>\n",
       "      <th>1</th>\n",
       "      <td>02</td>\n",
       "      <td>None</td>\n",
       "      <td>0.00</td>\n",
       "      <td>271239.32</td>\n",
       "      <td>966168.41</td>\n",
       "    </tr>\n",
       "    <tr>\n",
       "      <th>2</th>\n",
       "      <td>03</td>\n",
       "      <td>None</td>\n",
       "      <td>0.00</td>\n",
       "      <td>414330.95</td>\n",
       "      <td>1120598.24</td>\n",
       "    </tr>\n",
       "    <tr>\n",
       "      <th>3</th>\n",
       "      <td>04</td>\n",
       "      <td>None</td>\n",
       "      <td>0.00</td>\n",
       "      <td>390812.40</td>\n",
       "      <td>1132878.93</td>\n",
       "    </tr>\n",
       "    <tr>\n",
       "      <th>4</th>\n",
       "      <td>05</td>\n",
       "      <td>None</td>\n",
       "      <td>0.00</td>\n",
       "      <td>566851.40</td>\n",
       "      <td>1128774.52</td>\n",
       "    </tr>\n",
       "    <tr>\n",
       "      <th>5</th>\n",
       "      <td>06</td>\n",
       "      <td>None</td>\n",
       "      <td>0.00</td>\n",
       "      <td>490050.37</td>\n",
       "      <td>1011978.29</td>\n",
       "    </tr>\n",
       "    <tr>\n",
       "      <th>6</th>\n",
       "      <td>07</td>\n",
       "      <td>None</td>\n",
       "      <td>0.00</td>\n",
       "      <td>566299.08</td>\n",
       "      <td>1027807.28</td>\n",
       "    </tr>\n",
       "    <tr>\n",
       "      <th>7</th>\n",
       "      <td>08</td>\n",
       "      <td>None</td>\n",
       "      <td>0.00</td>\n",
       "      <td>645832.36</td>\n",
       "      <td>985491.64</td>\n",
       "    </tr>\n",
       "    <tr>\n",
       "      <th>8</th>\n",
       "      <td>09</td>\n",
       "      <td>None</td>\n",
       "      <td>143.46</td>\n",
       "      <td>701077.49</td>\n",
       "      <td>0.00</td>\n",
       "    </tr>\n",
       "    <tr>\n",
       "      <th>9</th>\n",
       "      <td>10</td>\n",
       "      <td>None</td>\n",
       "      <td>46490.66</td>\n",
       "      <td>751117.01</td>\n",
       "      <td>0.00</td>\n",
       "    </tr>\n",
       "    <tr>\n",
       "      <th>10</th>\n",
       "      <td>11</td>\n",
       "      <td>None</td>\n",
       "      <td>0.00</td>\n",
       "      <td>1153364.20</td>\n",
       "      <td>0.00</td>\n",
       "    </tr>\n",
       "    <tr>\n",
       "      <th>11</th>\n",
       "      <td>12</td>\n",
       "      <td>None</td>\n",
       "      <td>19.62</td>\n",
       "      <td>843078.29</td>\n",
       "      <td>0.00</td>\n",
       "    </tr>\n",
       "  </tbody>\n",
       "</table>\n",
       "</div>"
      ],
      "text/plain": [
       "   month_no month  Year2016    Year2017    Year2018\n",
       "0        01  None      0.00   127482.37  1077887.46\n",
       "1        02  None      0.00   271239.32   966168.41\n",
       "2        03  None      0.00   414330.95  1120598.24\n",
       "3        04  None      0.00   390812.40  1132878.93\n",
       "4        05  None      0.00   566851.40  1128774.52\n",
       "5        06  None      0.00   490050.37  1011978.29\n",
       "6        07  None      0.00   566299.08  1027807.28\n",
       "7        08  None      0.00   645832.36   985491.64\n",
       "8        09  None    143.46   701077.49        0.00\n",
       "9        10  None  46490.66   751117.01        0.00\n",
       "10       11  None      0.00  1153364.20        0.00\n",
       "11       12  None     19.62   843078.29        0.00"
      ]
     },
     "execution_count": 12,
     "metadata": {},
     "output_type": "execute_result"
    }
   ],
   "source": [
    "# Transforming the revenue_by_month_year query to a table\n",
    "revenue_by_month_year = query_results[QueryEnum.REVENUE_BY_MONTH_YEAR.value]\n",
    "revenue_by_month_year"
   ]
  },
  {
   "cell_type": "code",
   "execution_count": 13,
   "metadata": {},
   "outputs": [
    {
     "data": {
      "text/html": [
       "<div>\n",
       "<style scoped>\n",
       "    .dataframe tbody tr th:only-of-type {\n",
       "        vertical-align: middle;\n",
       "    }\n",
       "\n",
       "    .dataframe tbody tr th {\n",
       "        vertical-align: top;\n",
       "    }\n",
       "\n",
       "    .dataframe thead th {\n",
       "        text-align: right;\n",
       "    }\n",
       "</style>\n",
       "<table border=\"1\" class=\"dataframe\">\n",
       "  <thead>\n",
       "    <tr style=\"text-align: right;\">\n",
       "      <th></th>\n",
       "      <th>Category</th>\n",
       "      <th>Num_order</th>\n",
       "      <th>Revenue</th>\n",
       "    </tr>\n",
       "  </thead>\n",
       "  <tbody>\n",
       "    <tr>\n",
       "      <th>0</th>\n",
       "      <td>health_beauty</td>\n",
       "      <td>8647</td>\n",
       "      <td>1412089.53</td>\n",
       "    </tr>\n",
       "    <tr>\n",
       "      <th>1</th>\n",
       "      <td>watches_gifts</td>\n",
       "      <td>5493</td>\n",
       "      <td>1264016.98</td>\n",
       "    </tr>\n",
       "    <tr>\n",
       "      <th>2</th>\n",
       "      <td>bed_bath_table</td>\n",
       "      <td>9272</td>\n",
       "      <td>1225209.26</td>\n",
       "    </tr>\n",
       "    <tr>\n",
       "      <th>3</th>\n",
       "      <td>sports_leisure</td>\n",
       "      <td>7529</td>\n",
       "      <td>1118062.91</td>\n",
       "    </tr>\n",
       "    <tr>\n",
       "      <th>4</th>\n",
       "      <td>computers_accessories</td>\n",
       "      <td>6529</td>\n",
       "      <td>1032603.65</td>\n",
       "    </tr>\n",
       "    <tr>\n",
       "      <th>5</th>\n",
       "      <td>furniture_decor</td>\n",
       "      <td>6307</td>\n",
       "      <td>880329.92</td>\n",
       "    </tr>\n",
       "    <tr>\n",
       "      <th>6</th>\n",
       "      <td>housewares</td>\n",
       "      <td>5743</td>\n",
       "      <td>758392.25</td>\n",
       "    </tr>\n",
       "    <tr>\n",
       "      <th>7</th>\n",
       "      <td>cool_stuff</td>\n",
       "      <td>3559</td>\n",
       "      <td>691680.89</td>\n",
       "    </tr>\n",
       "    <tr>\n",
       "      <th>8</th>\n",
       "      <td>auto</td>\n",
       "      <td>3809</td>\n",
       "      <td>669319.92</td>\n",
       "    </tr>\n",
       "    <tr>\n",
       "      <th>9</th>\n",
       "      <td>garden_tools</td>\n",
       "      <td>3448</td>\n",
       "      <td>567145.68</td>\n",
       "    </tr>\n",
       "  </tbody>\n",
       "</table>\n",
       "</div>"
      ],
      "text/plain": [
       "                Category  Num_order     Revenue\n",
       "0          health_beauty       8647  1412089.53\n",
       "1          watches_gifts       5493  1264016.98\n",
       "2         bed_bath_table       9272  1225209.26\n",
       "3         sports_leisure       7529  1118062.91\n",
       "4  computers_accessories       6529  1032603.65\n",
       "5        furniture_decor       6307   880329.92\n",
       "6             housewares       5743   758392.25\n",
       "7             cool_stuff       3559   691680.89\n",
       "8                   auto       3809   669319.92\n",
       "9           garden_tools       3448   567145.68"
      ]
     },
     "execution_count": 13,
     "metadata": {},
     "output_type": "execute_result"
    }
   ],
   "source": [
    "# Transforming the top_10_revenue_categories query to a table\n",
    "top_10_revenue_categories = query_results[QueryEnum.TOP_10_REVENUE_CATEGORIES.value]\n",
    "top_10_revenue_categories"
   ]
  },
  {
   "cell_type": "code",
   "execution_count": 14,
   "metadata": {},
   "outputs": [
    {
     "data": {
      "text/html": [
       "<div>\n",
       "<style scoped>\n",
       "    .dataframe tbody tr th:only-of-type {\n",
       "        vertical-align: middle;\n",
       "    }\n",
       "\n",
       "    .dataframe tbody tr th {\n",
       "        vertical-align: top;\n",
       "    }\n",
       "\n",
       "    .dataframe thead th {\n",
       "        text-align: right;\n",
       "    }\n",
       "</style>\n",
       "<table border=\"1\" class=\"dataframe\">\n",
       "  <thead>\n",
       "    <tr style=\"text-align: right;\">\n",
       "      <th></th>\n",
       "      <th>Category</th>\n",
       "      <th>Num_order</th>\n",
       "      <th>Revenue</th>\n",
       "    </tr>\n",
       "  </thead>\n",
       "  <tbody>\n",
       "    <tr>\n",
       "      <th>0</th>\n",
       "      <td>security_and_services</td>\n",
       "      <td>2</td>\n",
       "      <td>324.51</td>\n",
       "    </tr>\n",
       "    <tr>\n",
       "      <th>1</th>\n",
       "      <td>fashion_childrens_clothes</td>\n",
       "      <td>7</td>\n",
       "      <td>598.67</td>\n",
       "    </tr>\n",
       "    <tr>\n",
       "      <th>2</th>\n",
       "      <td>cds_dvds_musicals</td>\n",
       "      <td>12</td>\n",
       "      <td>954.99</td>\n",
       "    </tr>\n",
       "    <tr>\n",
       "      <th>3</th>\n",
       "      <td>home_comfort_2</td>\n",
       "      <td>24</td>\n",
       "      <td>1170.58</td>\n",
       "    </tr>\n",
       "    <tr>\n",
       "      <th>4</th>\n",
       "      <td>flowers</td>\n",
       "      <td>29</td>\n",
       "      <td>1598.91</td>\n",
       "    </tr>\n",
       "    <tr>\n",
       "      <th>5</th>\n",
       "      <td>diapers_and_hygiene</td>\n",
       "      <td>25</td>\n",
       "      <td>2046.19</td>\n",
       "    </tr>\n",
       "    <tr>\n",
       "      <th>6</th>\n",
       "      <td>arts_and_craftmanship</td>\n",
       "      <td>23</td>\n",
       "      <td>2184.14</td>\n",
       "    </tr>\n",
       "    <tr>\n",
       "      <th>7</th>\n",
       "      <td>la_cuisine</td>\n",
       "      <td>13</td>\n",
       "      <td>2388.54</td>\n",
       "    </tr>\n",
       "    <tr>\n",
       "      <th>8</th>\n",
       "      <td>fashion_sport</td>\n",
       "      <td>26</td>\n",
       "      <td>2657.55</td>\n",
       "    </tr>\n",
       "    <tr>\n",
       "      <th>9</th>\n",
       "      <td>fashio_female_clothing</td>\n",
       "      <td>36</td>\n",
       "      <td>3218.44</td>\n",
       "    </tr>\n",
       "  </tbody>\n",
       "</table>\n",
       "</div>"
      ],
      "text/plain": [
       "                    Category  Num_order  Revenue\n",
       "0      security_and_services          2   324.51\n",
       "1  fashion_childrens_clothes          7   598.67\n",
       "2          cds_dvds_musicals         12   954.99\n",
       "3             home_comfort_2         24  1170.58\n",
       "4                    flowers         29  1598.91\n",
       "5        diapers_and_hygiene         25  2046.19\n",
       "6      arts_and_craftmanship         23  2184.14\n",
       "7                 la_cuisine         13  2388.54\n",
       "8              fashion_sport         26  2657.55\n",
       "9     fashio_female_clothing         36  3218.44"
      ]
     },
     "execution_count": 14,
     "metadata": {},
     "output_type": "execute_result"
    }
   ],
   "source": [
    "# Transforming the top_10_least_revenue_categories query to a table\n",
    "top_10_least_revenue_categories = query_results[\n",
    "    QueryEnum.TOP_10_LEAST_REVENUE_CATEGORIES.value\n",
    "]\n",
    "top_10_least_revenue_categories"
   ]
  },
  {
   "cell_type": "code",
   "execution_count": 15,
   "metadata": {},
   "outputs": [
    {
     "data": {
      "text/html": [
       "<div>\n",
       "<style scoped>\n",
       "    .dataframe tbody tr th:only-of-type {\n",
       "        vertical-align: middle;\n",
       "    }\n",
       "\n",
       "    .dataframe tbody tr th {\n",
       "        vertical-align: top;\n",
       "    }\n",
       "\n",
       "    .dataframe thead th {\n",
       "        text-align: right;\n",
       "    }\n",
       "</style>\n",
       "<table border=\"1\" class=\"dataframe\">\n",
       "  <thead>\n",
       "    <tr style=\"text-align: right;\">\n",
       "      <th></th>\n",
       "      <th>customer_state</th>\n",
       "      <th>Revenue</th>\n",
       "    </tr>\n",
       "  </thead>\n",
       "  <tbody>\n",
       "    <tr>\n",
       "      <th>0</th>\n",
       "      <td>SP</td>\n",
       "      <td>5768518.23</td>\n",
       "    </tr>\n",
       "    <tr>\n",
       "      <th>1</th>\n",
       "      <td>RJ</td>\n",
       "      <td>2055401.57</td>\n",
       "    </tr>\n",
       "    <tr>\n",
       "      <th>2</th>\n",
       "      <td>MG</td>\n",
       "      <td>1818891.67</td>\n",
       "    </tr>\n",
       "    <tr>\n",
       "      <th>3</th>\n",
       "      <td>RS</td>\n",
       "      <td>861278.79</td>\n",
       "    </tr>\n",
       "    <tr>\n",
       "      <th>4</th>\n",
       "      <td>PR</td>\n",
       "      <td>781708.80</td>\n",
       "    </tr>\n",
       "    <tr>\n",
       "      <th>5</th>\n",
       "      <td>SC</td>\n",
       "      <td>595127.78</td>\n",
       "    </tr>\n",
       "    <tr>\n",
       "      <th>6</th>\n",
       "      <td>BA</td>\n",
       "      <td>591137.81</td>\n",
       "    </tr>\n",
       "    <tr>\n",
       "      <th>7</th>\n",
       "      <td>DF</td>\n",
       "      <td>346123.35</td>\n",
       "    </tr>\n",
       "    <tr>\n",
       "      <th>8</th>\n",
       "      <td>GO</td>\n",
       "      <td>334212.35</td>\n",
       "    </tr>\n",
       "    <tr>\n",
       "      <th>9</th>\n",
       "      <td>ES</td>\n",
       "      <td>317657.93</td>\n",
       "    </tr>\n",
       "  </tbody>\n",
       "</table>\n",
       "</div>"
      ],
      "text/plain": [
       "  customer_state     Revenue\n",
       "0             SP  5768518.23\n",
       "1             RJ  2055401.57\n",
       "2             MG  1818891.67\n",
       "3             RS   861278.79\n",
       "4             PR   781708.80\n",
       "5             SC   595127.78\n",
       "6             BA   591137.81\n",
       "7             DF   346123.35\n",
       "8             GO   334212.35\n",
       "9             ES   317657.93"
      ]
     },
     "execution_count": 15,
     "metadata": {},
     "output_type": "execute_result"
    }
   ],
   "source": [
    "# Transforming the revenue_per_state query to a table\n",
    "revenue_per_state = query_results[QueryEnum.REVENUE_PER_STATE.value]\n",
    "revenue_per_state"
   ]
  },
  {
   "attachments": {},
   "cell_type": "markdown",
   "metadata": {},
   "source": [
    "##### 3.2 Queries sobre entregas"
   ]
  },
  {
   "cell_type": "code",
   "execution_count": 16,
   "metadata": {},
   "outputs": [
    {
     "data": {
      "text/html": [
       "<div>\n",
       "<style scoped>\n",
       "    .dataframe tbody tr th:only-of-type {\n",
       "        vertical-align: middle;\n",
       "    }\n",
       "\n",
       "    .dataframe tbody tr th {\n",
       "        vertical-align: top;\n",
       "    }\n",
       "\n",
       "    .dataframe thead th {\n",
       "        text-align: right;\n",
       "    }\n",
       "</style>\n",
       "<table border=\"1\" class=\"dataframe\">\n",
       "  <thead>\n",
       "    <tr style=\"text-align: right;\">\n",
       "      <th></th>\n",
       "      <th>Estado</th>\n",
       "      <th>Diferencia_Entrega</th>\n",
       "    </tr>\n",
       "  </thead>\n",
       "  <tbody>\n",
       "    <tr>\n",
       "      <th>0</th>\n",
       "      <td>delivered</td>\n",
       "      <td>-11.178126</td>\n",
       "    </tr>\n",
       "  </tbody>\n",
       "</table>\n",
       "</div>"
      ],
      "text/plain": [
       "      Estado  Diferencia_Entrega\n",
       "0  delivered          -11.178126"
      ]
     },
     "execution_count": 16,
     "metadata": {},
     "output_type": "execute_result"
    }
   ],
   "source": [
    "# Transforming the delivery_date_difference query to a table\n",
    "delivery_date_difference = query_results[QueryEnum.DELIVERY_DATE_DIFFERECE.value]\n",
    "delivery_date_difference"
   ]
  },
  {
   "cell_type": "code",
   "execution_count": 17,
   "metadata": {},
   "outputs": [
    {
     "data": {
      "text/html": [
       "<div>\n",
       "<style scoped>\n",
       "    .dataframe tbody tr th:only-of-type {\n",
       "        vertical-align: middle;\n",
       "    }\n",
       "\n",
       "    .dataframe tbody tr th {\n",
       "        vertical-align: top;\n",
       "    }\n",
       "\n",
       "    .dataframe thead th {\n",
       "        text-align: right;\n",
       "    }\n",
       "</style>\n",
       "<table border=\"1\" class=\"dataframe\">\n",
       "  <thead>\n",
       "    <tr style=\"text-align: right;\">\n",
       "      <th></th>\n",
       "      <th>month_no</th>\n",
       "      <th>month</th>\n",
       "      <th>Year2016_real_time</th>\n",
       "      <th>Year2017_real_time</th>\n",
       "      <th>Year2018_real_time</th>\n",
       "      <th>Year2016_estimated_time</th>\n",
       "      <th>Year2017_estimated_time</th>\n",
       "      <th>Year2018_estimated_time</th>\n",
       "    </tr>\n",
       "  </thead>\n",
       "  <tbody>\n",
       "    <tr>\n",
       "      <th>0</th>\n",
       "      <td>01</td>\n",
       "      <td>None</td>\n",
       "      <td>NaN</td>\n",
       "      <td>8.602918</td>\n",
       "      <td>15.330987</td>\n",
       "      <td>NaN</td>\n",
       "      <td>38.093287</td>\n",
       "      <td>26.605709</td>\n",
       "    </tr>\n",
       "    <tr>\n",
       "      <th>1</th>\n",
       "      <td>02</td>\n",
       "      <td>None</td>\n",
       "      <td>NaN</td>\n",
       "      <td>10.331250</td>\n",
       "      <td>14.672381</td>\n",
       "      <td>NaN</td>\n",
       "      <td>34.958037</td>\n",
       "      <td>26.100344</td>\n",
       "    </tr>\n",
       "    <tr>\n",
       "      <th>2</th>\n",
       "      <td>03</td>\n",
       "      <td>None</td>\n",
       "      <td>NaN</td>\n",
       "      <td>11.908795</td>\n",
       "      <td>15.365344</td>\n",
       "      <td>NaN</td>\n",
       "      <td>25.756345</td>\n",
       "      <td>22.557836</td>\n",
       "    </tr>\n",
       "    <tr>\n",
       "      <th>3</th>\n",
       "      <td>04</td>\n",
       "      <td>None</td>\n",
       "      <td>NaN</td>\n",
       "      <td>12.813702</td>\n",
       "      <td>15.366259</td>\n",
       "      <td>NaN</td>\n",
       "      <td>26.809681</td>\n",
       "      <td>23.012420</td>\n",
       "    </tr>\n",
       "    <tr>\n",
       "      <th>4</th>\n",
       "      <td>05</td>\n",
       "      <td>None</td>\n",
       "      <td>NaN</td>\n",
       "      <td>12.943527</td>\n",
       "      <td>11.861215</td>\n",
       "      <td>NaN</td>\n",
       "      <td>24.909502</td>\n",
       "      <td>22.418769</td>\n",
       "    </tr>\n",
       "    <tr>\n",
       "      <th>5</th>\n",
       "      <td>06</td>\n",
       "      <td>None</td>\n",
       "      <td>NaN</td>\n",
       "      <td>11.679506</td>\n",
       "      <td>11.721084</td>\n",
       "      <td>NaN</td>\n",
       "      <td>24.614169</td>\n",
       "      <td>27.801868</td>\n",
       "    </tr>\n",
       "    <tr>\n",
       "      <th>6</th>\n",
       "      <td>07</td>\n",
       "      <td>None</td>\n",
       "      <td>NaN</td>\n",
       "      <td>11.289015</td>\n",
       "      <td>9.149208</td>\n",
       "      <td>NaN</td>\n",
       "      <td>23.095980</td>\n",
       "      <td>22.123831</td>\n",
       "    </tr>\n",
       "    <tr>\n",
       "      <th>7</th>\n",
       "      <td>08</td>\n",
       "      <td>None</td>\n",
       "      <td>NaN</td>\n",
       "      <td>11.000487</td>\n",
       "      <td>8.741144</td>\n",
       "      <td>NaN</td>\n",
       "      <td>23.493587</td>\n",
       "      <td>16.407960</td>\n",
       "    </tr>\n",
       "    <tr>\n",
       "      <th>8</th>\n",
       "      <td>09</td>\n",
       "      <td>None</td>\n",
       "      <td>NaN</td>\n",
       "      <td>12.487484</td>\n",
       "      <td>40.148743</td>\n",
       "      <td>NaN</td>\n",
       "      <td>22.067024</td>\n",
       "      <td>16.967427</td>\n",
       "    </tr>\n",
       "    <tr>\n",
       "      <th>9</th>\n",
       "      <td>10</td>\n",
       "      <td>None</td>\n",
       "      <td>14.480048</td>\n",
       "      <td>11.757649</td>\n",
       "      <td>114.608503</td>\n",
       "      <td>55.310101</td>\n",
       "      <td>23.644691</td>\n",
       "      <td>30.519884</td>\n",
       "    </tr>\n",
       "    <tr>\n",
       "      <th>10</th>\n",
       "      <td>11</td>\n",
       "      <td>None</td>\n",
       "      <td>35.804922</td>\n",
       "      <td>11.884157</td>\n",
       "      <td>NaN</td>\n",
       "      <td>55.605471</td>\n",
       "      <td>21.901508</td>\n",
       "      <td>NaN</td>\n",
       "    </tr>\n",
       "    <tr>\n",
       "      <th>11</th>\n",
       "      <td>12</td>\n",
       "      <td>None</td>\n",
       "      <td>52.139745</td>\n",
       "      <td>14.141107</td>\n",
       "      <td>NaN</td>\n",
       "      <td>58.784476</td>\n",
       "      <td>24.669293</td>\n",
       "      <td>NaN</td>\n",
       "    </tr>\n",
       "  </tbody>\n",
       "</table>\n",
       "</div>"
      ],
      "text/plain": [
       "   month_no month  Year2016_real_time  Year2017_real_time  Year2018_real_time  \\\n",
       "0        01  None                 NaN            8.602918           15.330987   \n",
       "1        02  None                 NaN           10.331250           14.672381   \n",
       "2        03  None                 NaN           11.908795           15.365344   \n",
       "3        04  None                 NaN           12.813702           15.366259   \n",
       "4        05  None                 NaN           12.943527           11.861215   \n",
       "5        06  None                 NaN           11.679506           11.721084   \n",
       "6        07  None                 NaN           11.289015            9.149208   \n",
       "7        08  None                 NaN           11.000487            8.741144   \n",
       "8        09  None                 NaN           12.487484           40.148743   \n",
       "9        10  None           14.480048           11.757649          114.608503   \n",
       "10       11  None           35.804922           11.884157                 NaN   \n",
       "11       12  None           52.139745           14.141107                 NaN   \n",
       "\n",
       "    Year2016_estimated_time  Year2017_estimated_time  Year2018_estimated_time  \n",
       "0                       NaN                38.093287                26.605709  \n",
       "1                       NaN                34.958037                26.100344  \n",
       "2                       NaN                25.756345                22.557836  \n",
       "3                       NaN                26.809681                23.012420  \n",
       "4                       NaN                24.909502                22.418769  \n",
       "5                       NaN                24.614169                27.801868  \n",
       "6                       NaN                23.095980                22.123831  \n",
       "7                       NaN                23.493587                16.407960  \n",
       "8                       NaN                22.067024                16.967427  \n",
       "9                 55.310101                23.644691                30.519884  \n",
       "10                55.605471                21.901508                      NaN  \n",
       "11                58.784476                24.669293                      NaN  "
      ]
     },
     "execution_count": 17,
     "metadata": {},
     "output_type": "execute_result"
    }
   ],
   "source": [
    "# Transforming the real vs predicted delivered time query to a table per month and year\n",
    "real_vs_estimated_delivered_time = query_results[\n",
    "    QueryEnum.REAL_VS_ESTIMATED_DELIVERED_TIME.value\n",
    "]\n",
    "real_vs_estimated_delivered_time"
   ]
  },
  {
   "cell_type": "code",
   "execution_count": 18,
   "metadata": {},
   "outputs": [
    {
     "data": {
      "text/html": [
       "<div>\n",
       "<style scoped>\n",
       "    .dataframe tbody tr th:only-of-type {\n",
       "        vertical-align: middle;\n",
       "    }\n",
       "\n",
       "    .dataframe tbody tr th {\n",
       "        vertical-align: top;\n",
       "    }\n",
       "\n",
       "    .dataframe thead th {\n",
       "        text-align: right;\n",
       "    }\n",
       "</style>\n",
       "<table border=\"1\" class=\"dataframe\">\n",
       "  <thead>\n",
       "    <tr style=\"text-align: right;\">\n",
       "      <th></th>\n",
       "      <th>estado_pedido</th>\n",
       "      <th>Cantidad</th>\n",
       "    </tr>\n",
       "  </thead>\n",
       "  <tbody>\n",
       "    <tr>\n",
       "      <th>0</th>\n",
       "      <td>approved</td>\n",
       "      <td>2</td>\n",
       "    </tr>\n",
       "    <tr>\n",
       "      <th>1</th>\n",
       "      <td>canceled</td>\n",
       "      <td>625</td>\n",
       "    </tr>\n",
       "    <tr>\n",
       "      <th>2</th>\n",
       "      <td>created</td>\n",
       "      <td>5</td>\n",
       "    </tr>\n",
       "    <tr>\n",
       "      <th>3</th>\n",
       "      <td>delivered</td>\n",
       "      <td>96478</td>\n",
       "    </tr>\n",
       "    <tr>\n",
       "      <th>4</th>\n",
       "      <td>invoiced</td>\n",
       "      <td>314</td>\n",
       "    </tr>\n",
       "    <tr>\n",
       "      <th>5</th>\n",
       "      <td>processing</td>\n",
       "      <td>301</td>\n",
       "    </tr>\n",
       "    <tr>\n",
       "      <th>6</th>\n",
       "      <td>shipped</td>\n",
       "      <td>1107</td>\n",
       "    </tr>\n",
       "    <tr>\n",
       "      <th>7</th>\n",
       "      <td>unavailable</td>\n",
       "      <td>609</td>\n",
       "    </tr>\n",
       "  </tbody>\n",
       "</table>\n",
       "</div>"
      ],
      "text/plain": [
       "  estado_pedido  Cantidad\n",
       "0      approved         2\n",
       "1      canceled       625\n",
       "2       created         5\n",
       "3     delivered     96478\n",
       "4      invoiced       314\n",
       "5    processing       301\n",
       "6       shipped      1107\n",
       "7   unavailable       609"
      ]
     },
     "execution_count": 18,
     "metadata": {},
     "output_type": "execute_result"
    }
   ],
   "source": [
    "# Transforming the global ammount of order status query to a table\n",
    "global_ammount_order_status = query_results[QueryEnum.GLOBAL_AMMOUNT_ORDER_STATUS.value]\n",
    "global_ammount_order_status"
   ]
  },
  {
   "cell_type": "code",
   "execution_count": 19,
   "metadata": {},
   "outputs": [
    {
     "name": "stdout",
     "output_type": "stream",
     "text": [
      "          date  order_count  holiday\n",
      "0   2017-01-05           32    False\n",
      "1   2017-01-06            4    False\n",
      "2   2017-01-07            4    False\n",
      "3   2017-01-08            6    False\n",
      "4   2017-01-09            5    False\n",
      "..         ...          ...      ...\n",
      "356 2017-12-27          167    False\n",
      "357 2017-12-28          146    False\n",
      "358 2017-12-29          135    False\n",
      "359 2017-12-30           97    False\n",
      "360 2017-12-31           74    False\n",
      "\n",
      "[361 rows x 3 columns]\n"
     ]
    }
   ],
   "source": [
    "from src.transform import query_orders_per_day_and_holidays_2017\n",
    "\n",
    "query_result = query_orders_per_day_and_holidays_2017(database)\n",
    "print(query_result.result)  # Debería imprimir un DataFrame\n"
   ]
  },
  {
   "cell_type": "code",
   "execution_count": 20,
   "metadata": {},
   "outputs": [
    {
     "data": {
      "text/html": [
       "<div>\n",
       "<style scoped>\n",
       "    .dataframe tbody tr th:only-of-type {\n",
       "        vertical-align: middle;\n",
       "    }\n",
       "\n",
       "    .dataframe tbody tr th {\n",
       "        vertical-align: top;\n",
       "    }\n",
       "\n",
       "    .dataframe thead th {\n",
       "        text-align: right;\n",
       "    }\n",
       "</style>\n",
       "<table border=\"1\" class=\"dataframe\">\n",
       "  <thead>\n",
       "    <tr style=\"text-align: right;\">\n",
       "      <th></th>\n",
       "      <th>date</th>\n",
       "      <th>order_count</th>\n",
       "      <th>holiday</th>\n",
       "    </tr>\n",
       "  </thead>\n",
       "  <tbody>\n",
       "    <tr>\n",
       "      <th>0</th>\n",
       "      <td>2017-01-05</td>\n",
       "      <td>32</td>\n",
       "      <td>False</td>\n",
       "    </tr>\n",
       "    <tr>\n",
       "      <th>1</th>\n",
       "      <td>2017-01-06</td>\n",
       "      <td>4</td>\n",
       "      <td>False</td>\n",
       "    </tr>\n",
       "    <tr>\n",
       "      <th>2</th>\n",
       "      <td>2017-01-07</td>\n",
       "      <td>4</td>\n",
       "      <td>False</td>\n",
       "    </tr>\n",
       "    <tr>\n",
       "      <th>3</th>\n",
       "      <td>2017-01-08</td>\n",
       "      <td>6</td>\n",
       "      <td>False</td>\n",
       "    </tr>\n",
       "    <tr>\n",
       "      <th>4</th>\n",
       "      <td>2017-01-09</td>\n",
       "      <td>5</td>\n",
       "      <td>False</td>\n",
       "    </tr>\n",
       "    <tr>\n",
       "      <th>...</th>\n",
       "      <td>...</td>\n",
       "      <td>...</td>\n",
       "      <td>...</td>\n",
       "    </tr>\n",
       "    <tr>\n",
       "      <th>356</th>\n",
       "      <td>2017-12-27</td>\n",
       "      <td>167</td>\n",
       "      <td>False</td>\n",
       "    </tr>\n",
       "    <tr>\n",
       "      <th>357</th>\n",
       "      <td>2017-12-28</td>\n",
       "      <td>146</td>\n",
       "      <td>False</td>\n",
       "    </tr>\n",
       "    <tr>\n",
       "      <th>358</th>\n",
       "      <td>2017-12-29</td>\n",
       "      <td>135</td>\n",
       "      <td>False</td>\n",
       "    </tr>\n",
       "    <tr>\n",
       "      <th>359</th>\n",
       "      <td>2017-12-30</td>\n",
       "      <td>97</td>\n",
       "      <td>False</td>\n",
       "    </tr>\n",
       "    <tr>\n",
       "      <th>360</th>\n",
       "      <td>2017-12-31</td>\n",
       "      <td>74</td>\n",
       "      <td>False</td>\n",
       "    </tr>\n",
       "  </tbody>\n",
       "</table>\n",
       "<p>361 rows × 3 columns</p>\n",
       "</div>"
      ],
      "text/plain": [
       "          date  order_count  holiday\n",
       "0   2017-01-05           32    False\n",
       "1   2017-01-06            4    False\n",
       "2   2017-01-07            4    False\n",
       "3   2017-01-08            6    False\n",
       "4   2017-01-09            5    False\n",
       "..         ...          ...      ...\n",
       "356 2017-12-27          167    False\n",
       "357 2017-12-28          146    False\n",
       "358 2017-12-29          135    False\n",
       "359 2017-12-30           97    False\n",
       "360 2017-12-31           74    False\n",
       "\n",
       "[361 rows x 3 columns]"
      ]
     },
     "execution_count": 20,
     "metadata": {},
     "output_type": "execute_result"
    }
   ],
   "source": [
    "orders_per_day_and_holidays = query_results[\n",
    "    QueryEnum.ORDERS_PER_DAY_AND_HOLIDAYS_2017.value\n",
    "]\n",
    "orders_per_day_and_holidays"
   ]
  },
  {
   "cell_type": "code",
   "execution_count": 21,
   "metadata": {},
   "outputs": [
    {
     "name": "stdout",
     "output_type": "stream",
     "text": [
      "(96478, 3)\n",
      "                           order_id  total_freight_value  total_weight\n",
      "0  00010242fe8c5a6d1ba2dd792cb16214                13.29         650.0\n",
      "1  00018f77f2f0320c557190d7a144bdd3                19.93       30000.0\n",
      "2  000229ec398224ef6ca0657da4fc703e                17.87        3050.0\n",
      "3  00024acbcdf0a6daa1e931b038114c75                12.79         200.0\n",
      "4  00042b26cf59d7ce69dfabb4e55b4fd9                18.14        3750.0\n"
     ]
    }
   ],
   "source": [
    "df_freight = query_results[QueryEnum.GET_FREIGHT_VALUE_WEIGHT_RELATIONSHIP.value]\n",
    "print(df_freight.shape)  # Ver la cantidad de filas y columnas\n",
    "print(df_freight.head())  # Ver algunas filas\n"
   ]
  },
  {
   "cell_type": "code",
   "execution_count": 22,
   "metadata": {},
   "outputs": [],
   "source": [
    "freight_value_weight_relationship = query_results[\n",
    "    QueryEnum.GET_FREIGHT_VALUE_WEIGHT_RELATIONSHIP.value\n",
    "]"
   ]
  },
  {
   "attachments": {},
   "cell_type": "markdown",
   "metadata": {},
   "source": [
    "### 4. Graficas de las tablas resultantes"
   ]
  },
  {
   "attachments": {},
   "cell_type": "markdown",
   "metadata": {},
   "source": [
    "Ahora, crearemos gráficos a partir de las diferentes consultas."
   ]
  },
  {
   "cell_type": "code",
   "execution_count": 23,
   "metadata": {},
   "outputs": [
    {
     "name": "stdout",
     "output_type": "stream",
     "text": [
      "   month_no month  Year2016    Year2017    Year2018\n",
      "0        01  None      0.00   127482.37  1077887.46\n",
      "1        02  None      0.00   271239.32   966168.41\n",
      "2        03  None      0.00   414330.95  1120598.24\n",
      "3        04  None      0.00   390812.40  1132878.93\n",
      "4        05  None      0.00   566851.40  1128774.52\n",
      "5        06  None      0.00   490050.37  1011978.29\n",
      "6        07  None      0.00   566299.08  1027807.28\n",
      "7        08  None      0.00   645832.36   985491.64\n",
      "8        09  None    143.46   701077.49        0.00\n",
      "9        10  None  46490.66   751117.01        0.00\n",
      "10       11  None      0.00  1153364.20        0.00\n",
      "11       12  None     19.62   843078.29        0.00\n"
     ]
    }
   ],
   "source": [
    "print(revenue_by_month_year)\n"
   ]
  },
  {
   "cell_type": "code",
   "execution_count": 24,
   "metadata": {},
   "outputs": [
    {
     "name": "stdout",
     "output_type": "stream",
     "text": [
      "   month_no month  Year2016    Year2017    Year2018\n",
      "0        01   Jan      0.00   127482.37  1077887.46\n",
      "1        02   Feb      0.00   271239.32   966168.41\n",
      "2        03   Mar      0.00   414330.95  1120598.24\n",
      "3        04   Apr      0.00   390812.40  1132878.93\n",
      "4        05   May      0.00   566851.40  1128774.52\n",
      "5        06   Jun      0.00   490050.37  1011978.29\n",
      "6        07   Jul      0.00   566299.08  1027807.28\n",
      "7        08   Aug      0.00   645832.36   985491.64\n",
      "8        09   Sep    143.46   701077.49        0.00\n",
      "9        10   Oct  46490.66   751117.01        0.00\n",
      "10       11   Nov      0.00  1153364.20        0.00\n",
      "11       12   Dec     19.62   843078.29        0.00\n"
     ]
    }
   ],
   "source": [
    "# se renombra en month que esta None y se pone el mes correspondiente\n",
    "import calendar\n",
    "\n",
    "revenue_by_month_year[\"month\"] = revenue_by_month_year[\"month_no\"].apply(lambda x: calendar.month_abbr[int(x)])\n",
    "\n",
    "\n",
    "print(revenue_by_month_year)"
   ]
  },
  {
   "cell_type": "code",
   "execution_count": 25,
   "metadata": {},
   "outputs": [
    {
     "data": {
      "image/png": "[encoded data removed]",
      "text/plain": [
       "<Figure size 1200x600 with 2 Axes>"
      ]
     },
     "metadata": {},
     "output_type": "display_data"
    }
   ],
   "source": [
    "plot_revenue_by_month_year(revenue_by_month_year, 2017)"
   ]
  },
  {
   "cell_type": "code",
   "execution_count": 26,
   "metadata": {},
   "outputs": [
    {
     "data": {
      "application/vnd.plotly.v1+json": {
       "config": {
        "plotlyServerURL": "https://plot.ly"
       },
       "data": [
        {
         "branchvalues": "total",
         "domain": {
          "x": [
           0,
           1
          ],
          "y": [
           0,
           1
          ]
         },
         "hovertemplate": "labels=%{label}<br>Num_order=%{value}<br>parent=%{parent}<br>id=%{id}<extra></extra>",
         "ids": [
          "health_beauty",
          "watches_gifts",
          "bed_bath_table",
          "sports_leisure",
          "computers_accessories",
          "furniture_decor",
          "housewares",
          "cool_stuff",
          "auto",
          "garden_tools"
         ],
         "labels": [
          "health_beauty",
          "watches_gifts",
          "bed_bath_table",
          "sports_leisure",
          "computers_accessories",
          "furniture_decor",
          "housewares",
          "cool_stuff",
          "auto",
          "garden_tools"
         ],
         "name": "",
         "parents": [
          "",
          "",
          "",
          "",
          "",
          "",
          "",
          "",
          "",
          ""
         ],
         "type": "treemap",
         "values": {
          "bdata": "AAAAAIDjwEAAAAAAAHW1QAAAAAAAHMJAAAAAAABpvUAAAAAAAIG5QAAAAAAAo7hAAAAAAABvtkAAAAAAAM6rQAAAAAAAwq1AAAAAAADwqkA=",
          "dtype": "f8"
         }
        }
       ],
       "layout": {
        "height": 400,
        "legend": {
         "tracegroupgap": 0
        },
        "margin": {
         "b": 25,
         "l": 25,
         "r": 25,
         "t": 50
        },
        "template": {
         "data": {
          "bar": [
           {
            "error_x": {
             "color": "#2a3f5f"
            },
            "error_y": {
             "color": "#2a3f5f"
            },
            "marker": {
             "line": {
              "color": "#E5ECF6",
              "width": 0.5
             },
             "pattern": {
              "fillmode": "overlay",
              "size": 10,
              "solidity": 0.2
             }
            },
            "type": "bar"
           }
          ],
          "barpolar": [
           {
            "marker": {
             "line": {
              "color": "#E5ECF6",
              "width": 0.5
             },
             "pattern": {
              "fillmode": "overlay",
              "size": 10,
              "solidity": 0.2
             }
            },
            "type": "barpolar"
           }
          ],
          "carpet": [
           {
            "aaxis": {
             "endlinecolor": "#2a3f5f",
             "gridcolor": "white",
             "linecolor": "white",
             "minorgridcolor": "white",
             "startlinecolor": "#2a3f5f"
            },
            "baxis": {
             "endlinecolor": "#2a3f5f",
             "gridcolor": "white",
             "linecolor": "white",
             "minorgridcolor": "white",
             "startlinecolor": "#2a3f5f"
            },
            "type": "carpet"
           }
          ],
          "choropleth": [
           {
            "colorbar": {
             "outlinewidth": 0,
             "ticks": ""
            },
            "type": "choropleth"
           }
          ],
          "contour": [
           {
            "colorbar": {
             "outlinewidth": 0,
             "ticks": ""
            },
            "colorscale": [
             [
              0,
              "#0d0887"
             ],
             [
              0.1111111111111111,
              "#46039f"
             ],
             [
              0.2222222222222222,
              "#7201a8"
             ],
             [
              0.3333333333333333,
              "#9c179e"
             ],
             [
              0.4444444444444444,
              "#bd3786"
             ],
             [
              0.5555555555555556,
              "#d8576b"
             ],
             [
              0.6666666666666666,
              "#ed7953"
             ],
             [
              0.7777777777777778,
              "#fb9f3a"
             ],
             [
              0.8888888888888888,
              "#fdca26"
             ],
             [
              1,
              "#f0f921"
             ]
            ],
            "type": "contour"
           }
          ],
          "contourcarpet": [
           {
            "colorbar": {
             "outlinewidth": 0,
             "ticks": ""
            },
            "type": "contourcarpet"
           }
          ],
          "heatmap": [
           {
            "colorbar": {
             "outlinewidth": 0,
             "ticks": ""
            },
            "colorscale": [
             [
              0,
              "#0d0887"
             ],
             [
              0.1111111111111111,
              "#46039f"
             ],
             [
              0.2222222222222222,
              "#7201a8"
             ],
             [
              0.3333333333333333,
              "#9c179e"
             ],
             [
              0.4444444444444444,
              "#bd3786"
             ],
             [
              0.5555555555555556,
              "#d8576b"
             ],
             [
              0.6666666666666666,
              "#ed7953"
             ],
             [
              0.7777777777777778,
              "#fb9f3a"
             ],
             [
              0.8888888888888888,
              "#fdca26"
             ],
             [
              1,
              "#f0f921"
             ]
            ],
            "type": "heatmap"
           }
          ],
          "histogram": [
           {
            "marker": {
             "pattern": {
              "fillmode": "overlay",
              "size": 10,
              "solidity": 0.2
             }
            },
            "type": "histogram"
           }
          ],
          "histogram2d": [
           {
            "colorbar": {
             "outlinewidth": 0,
             "ticks": ""
            },
            "colorscale": [
             [
              0,
              "#0d0887"
             ],
             [
              0.1111111111111111,
              "#46039f"
             ],
             [
              0.2222222222222222,
              "#7201a8"
             ],
             [
              0.3333333333333333,
              "#9c179e"
             ],
             [
              0.4444444444444444,
              "#bd3786"
             ],
             [
              0.5555555555555556,
              "#d8576b"
             ],
             [
              0.6666666666666666,
              "#ed7953"
             ],
             [
              0.7777777777777778,
              "#fb9f3a"
             ],
             [
              0.8888888888888888,
              "#fdca26"
             ],
             [
              1,
              "#f0f921"
             ]
            ],
            "type": "histogram2d"
           }
          ],
          "histogram2dcontour": [
           {
            "colorbar": {
             "outlinewidth": 0,
             "ticks": ""
            },
            "colorscale": [
             [
              0,
              "#0d0887"
             ],
             [
              0.1111111111111111,
              "#46039f"
             ],
             [
              0.2222222222222222,
              "#7201a8"
             ],
             [
              0.3333333333333333,
              "#9c179e"
             ],
             [
              0.4444444444444444,
              "#bd3786"
             ],
             [
              0.5555555555555556,
              "#d8576b"
             ],
             [
              0.6666666666666666,
              "#ed7953"
             ],
             [
              0.7777777777777778,
              "#fb9f3a"
             ],
             [
              0.8888888888888888,
              "#fdca26"
             ],
             [
              1,
              "#f0f921"
             ]
            ],
            "type": "histogram2dcontour"
           }
          ],
          "mesh3d": [
           {
            "colorbar": {
             "outlinewidth": 0,
             "ticks": ""
            },
            "type": "mesh3d"
           }
          ],
          "parcoords": [
           {
            "line": {
             "colorbar": {
              "outlinewidth": 0,
              "ticks": ""
             }
            },
            "type": "parcoords"
           }
          ],
          "pie": [
           {
            "automargin": true,
            "type": "pie"
           }
          ],
          "scatter": [
           {
            "fillpattern": {
             "fillmode": "overlay",
             "size": 10,
             "solidity": 0.2
            },
            "type": "scatter"
           }
          ],
          "scatter3d": [
           {
            "line": {
             "colorbar": {
              "outlinewidth": 0,
              "ticks": ""
             }
            },
            "marker": {
             "colorbar": {
              "outlinewidth": 0,
              "ticks": ""
             }
            },
            "type": "scatter3d"
           }
          ],
          "scattercarpet": [
           {
            "marker": {
             "colorbar": {
              "outlinewidth": 0,
              "ticks": ""
             }
            },
            "type": "scattercarpet"
           }
          ],
          "scattergeo": [
           {
            "marker": {
             "colorbar": {
              "outlinewidth": 0,
              "ticks": ""
             }
            },
            "type": "scattergeo"
           }
          ],
          "scattergl": [
           {
            "marker": {
             "colorbar": {
              "outlinewidth": 0,
              "ticks": ""
             }
            },
            "type": "scattergl"
           }
          ],
          "scattermap": [
           {
            "marker": {
             "colorbar": {
              "outlinewidth": 0,
              "ticks": ""
             }
            },
            "type": "scattermap"
           }
          ],
          "scattermapbox": [
           {
            "marker": {
             "colorbar": {
              "outlinewidth": 0,
              "ticks": ""
             }
            },
            "type": "scattermapbox"
           }
          ],
          "scatterpolar": [
           {
            "marker": {
             "colorbar": {
              "outlinewidth": 0,
              "ticks": ""
             }
            },
            "type": "scatterpolar"
           }
          ],
          "scatterpolargl": [
           {
            "marker": {
             "colorbar": {
              "outlinewidth": 0,
              "ticks": ""
             }
            },
            "type": "scatterpolargl"
           }
          ],
          "scatterternary": [
           {
            "marker": {
             "colorbar": {
              "outlinewidth": 0,
              "ticks": ""
             }
            },
            "type": "scatterternary"
           }
          ],
          "surface": [
           {
            "colorbar": {
             "outlinewidth": 0,
             "ticks": ""
            },
            "colorscale": [
             [
              0,
              "#0d0887"
             ],
             [
              0.1111111111111111,
              "#46039f"
             ],
             [
              0.2222222222222222,
              "#7201a8"
             ],
             [
              0.3333333333333333,
              "#9c179e"
             ],
             [
              0.4444444444444444,
              "#bd3786"
             ],
             [
              0.5555555555555556,
              "#d8576b"
             ],
             [
              0.6666666666666666,
              "#ed7953"
             ],
             [
              0.7777777777777778,
              "#fb9f3a"
             ],
             [
              0.8888888888888888,
              "#fdca26"
             ],
             [
              1,
              "#f0f921"
             ]
            ],
            "type": "surface"
           }
          ],
          "table": [
           {
            "cells": {
             "fill": {
              "color": "#EBF0F8"
             },
             "line": {
              "color": "white"
             }
            },
            "header": {
             "fill": {
              "color": "#C8D4E3"
             },
             "line": {
              "color": "white"
             }
            },
            "type": "table"
           }
          ]
         },
         "layout": {
          "annotationdefaults": {
           "arrowcolor": "#2a3f5f",
           "arrowhead": 0,
           "arrowwidth": 1
          },
          "autotypenumbers": "strict",
          "coloraxis": {
           "colorbar": {
            "outlinewidth": 0,
            "ticks": ""
           }
          },
          "colorscale": {
           "diverging": [
            [
             0,
             "#8e0152"
            ],
            [
             0.1,
             "#c51b7d"
            ],
            [
             0.2,
             "#de77ae"
            ],
            [
             0.3,
             "#f1b6da"
            ],
            [
             0.4,
             "#fde0ef"
            ],
            [
             0.5,
             "#f7f7f7"
            ],
            [
             0.6,
             "#e6f5d0"
            ],
            [
             0.7,
             "#b8e186"
            ],
            [
             0.8,
             "#7fbc41"
            ],
            [
             0.9,
             "#4d9221"
            ],
            [
             1,
             "#276419"
            ]
           ],
           "sequential": [
            [
             0,
             "#0d0887"
            ],
            [
             0.1111111111111111,
             "#46039f"
            ],
            [
             0.2222222222222222,
             "#7201a8"
            ],
            [
             0.3333333333333333,
             "#9c179e"
            ],
            [
             0.4444444444444444,
             "#bd3786"
            ],
            [
             0.5555555555555556,
             "#d8576b"
            ],
            [
             0.6666666666666666,
             "#ed7953"
            ],
            [
             0.7777777777777778,
             "#fb9f3a"
            ],
            [
             0.8888888888888888,
             "#fdca26"
            ],
            [
             1,
             "#f0f921"
            ]
           ],
           "sequentialminus": [
            [
             0,
             "#0d0887"
            ],
            [
             0.1111111111111111,
             "#46039f"
            ],
            [
             0.2222222222222222,
             "#7201a8"
            ],
            [
             0.3333333333333333,
             "#9c179e"
            ],
            [
             0.4444444444444444,
             "#bd3786"
            ],
            [
             0.5555555555555556,
             "#d8576b"
            ],
            [
             0.6666666666666666,
             "#ed7953"
            ],
            [
             0.7777777777777778,
             "#fb9f3a"
            ],
            [
             0.8888888888888888,
             "#fdca26"
            ],
            [
             1,
             "#f0f921"
            ]
           ]
          },
          "colorway": [
           "#636efa",
           "#EF553B",
           "#00cc96",
           "#ab63fa",
           "#FFA15A",
           "#19d3f3",
           "#FF6692",
           "#B6E880",
           "#FF97FF",
           "#FECB52"
          ],
          "font": {
           "color": "#2a3f5f"
          },
          "geo": {
           "bgcolor": "white",
           "lakecolor": "white",
           "landcolor": "#E5ECF6",
           "showlakes": true,
           "showland": true,
           "subunitcolor": "white"
          },
          "hoverlabel": {
           "align": "left"
          },
          "hovermode": "closest",
          "mapbox": {
           "style": "light"
          },
          "paper_bgcolor": "white",
          "plot_bgcolor": "#E5ECF6",
          "polar": {
           "angularaxis": {
            "gridcolor": "white",
            "linecolor": "white",
            "ticks": ""
           },
           "bgcolor": "#E5ECF6",
           "radialaxis": {
            "gridcolor": "white",
            "linecolor": "white",
            "ticks": ""
           }
          },
          "scene": {
           "xaxis": {
            "backgroundcolor": "#E5ECF6",
            "gridcolor": "white",
            "gridwidth": 2,
            "linecolor": "white",
            "showbackground": true,
            "ticks": "",
            "zerolinecolor": "white"
           },
           "yaxis": {
            "backgroundcolor": "#E5ECF6",
            "gridcolor": "white",
            "gridwidth": 2,
            "linecolor": "white",
            "showbackground": true,
            "ticks": "",
            "zerolinecolor": "white"
           },
           "zaxis": {
            "backgroundcolor": "#E5ECF6",
            "gridcolor": "white",
            "gridwidth": 2,
            "linecolor": "white",
            "showbackground": true,
            "ticks": "",
            "zerolinecolor": "white"
           }
          },
          "shapedefaults": {
           "line": {
            "color": "#2a3f5f"
           }
          },
          "ternary": {
           "aaxis": {
            "gridcolor": "white",
            "linecolor": "white",
            "ticks": ""
           },
           "baxis": {
            "gridcolor": "white",
            "linecolor": "white",
            "ticks": ""
           },
           "bgcolor": "#E5ECF6",
           "caxis": {
            "gridcolor": "white",
            "linecolor": "white",
            "ticks": ""
           }
          },
          "title": {
           "x": 0.05
          },
          "xaxis": {
           "automargin": true,
           "gridcolor": "white",
           "linecolor": "white",
           "ticks": "",
           "title": {
            "standoff": 15
           },
           "zerolinecolor": "white",
           "zerolinewidth": 2
          },
          "yaxis": {
           "automargin": true,
           "gridcolor": "white",
           "linecolor": "white",
           "ticks": "",
           "title": {
            "standoff": 15
           },
           "zerolinecolor": "white",
           "zerolinewidth": 2
          }
         }
        },
        "width": 800
       }
      }
     },
     "metadata": {},
     "output_type": "display_data"
    }
   ],
   "source": [
    "plot_top_10_revenue_categories(top_10_revenue_categories)"
   ]
  },
  {
   "cell_type": "code",
   "execution_count": 27,
   "metadata": {},
   "outputs": [
    {
     "data": {
      "image/png": "[encoded data removed]",
      "text/plain": [
       "<Figure size 600x300 with 1 Axes>"
      ]
     },
     "metadata": {},
     "output_type": "display_data"
    }
   ],
   "source": [
    "plot_top_10_least_revenue_categories(top_10_least_revenue_categories)"
   ]
  },
  {
   "cell_type": "code",
   "execution_count": 28,
   "metadata": {},
   "outputs": [
    {
     "data": {
      "application/vnd.plotly.v1+json": {
       "config": {
        "plotlyServerURL": "https://plot.ly"
       },
       "data": [
        {
         "branchvalues": "total",
         "domain": {
          "x": [
           0,
           1
          ],
          "y": [
           0,
           1
          ]
         },
         "hovertemplate": "labels=%{label}<br>Revenue=%{value}<br>parent=%{parent}<br>id=%{id}<extra></extra>",
         "ids": [
          "SP",
          "RJ",
          "MG",
          "RS",
          "PR",
          "SC",
          "BA",
          "DF",
          "GO",
          "ES"
         ],
         "labels": [
          "SP",
          "RJ",
          "MG",
          "RS",
          "PR",
          "SC",
          "BA",
          "DF",
          "GO",
          "ES"
         ],
         "name": "",
         "parents": [
          "",
          "",
          "",
          "",
          "",
          "",
          "",
          "",
          "",
          ""
         ],
         "type": "treemap",
         "values": {
          "bdata": "7FG4jlEBVkEfheuR6Vw/QbgehasLwTtBSOF6lL1IKkGamZmZGdsnQfYoXI9vKSJB7FG4nkMKIkFmZmZmLSAVQWZmZmYRZhRBhetRuGdjE0E=",
          "dtype": "f8"
         }
        }
       ],
       "layout": {
        "height": 400,
        "legend": {
         "tracegroupgap": 0
        },
        "margin": {
         "b": 25,
         "l": 25,
         "r": 25,
         "t": 50
        },
        "template": {
         "data": {
          "bar": [
           {
            "error_x": {
             "color": "#2a3f5f"
            },
            "error_y": {
             "color": "#2a3f5f"
            },
            "marker": {
             "line": {
              "color": "#E5ECF6",
              "width": 0.5
             },
             "pattern": {
              "fillmode": "overlay",
              "size": 10,
              "solidity": 0.2
             }
            },
            "type": "bar"
           }
          ],
          "barpolar": [
           {
            "marker": {
             "line": {
              "color": "#E5ECF6",
              "width": 0.5
             },
             "pattern": {
              "fillmode": "overlay",
              "size": 10,
              "solidity": 0.2
             }
            },
            "type": "barpolar"
           }
          ],
          "carpet": [
           {
            "aaxis": {
             "endlinecolor": "#2a3f5f",
             "gridcolor": "white",
             "linecolor": "white",
             "minorgridcolor": "white",
             "startlinecolor": "#2a3f5f"
            },
            "baxis": {
             "endlinecolor": "#2a3f5f",
             "gridcolor": "white",
             "linecolor": "white",
             "minorgridcolor": "white",
             "startlinecolor": "#2a3f5f"
            },
            "type": "carpet"
           }
          ],
          "choropleth": [
           {
            "colorbar": {
             "outlinewidth": 0,
             "ticks": ""
            },
            "type": "choropleth"
           }
          ],
          "contour": [
           {
            "colorbar": {
             "outlinewidth": 0,
             "ticks": ""
            },
            "colorscale": [
             [
              0,
              "#0d0887"
             ],
             [
              0.1111111111111111,
              "#46039f"
             ],
             [
              0.2222222222222222,
              "#7201a8"
             ],
             [
              0.3333333333333333,
              "#9c179e"
             ],
             [
              0.4444444444444444,
              "#bd3786"
             ],
             [
              0.5555555555555556,
              "#d8576b"
             ],
             [
              0.6666666666666666,
              "#ed7953"
             ],
             [
              0.7777777777777778,
              "#fb9f3a"
             ],
             [
              0.8888888888888888,
              "#fdca26"
             ],
             [
              1,
              "#f0f921"
             ]
            ],
            "type": "contour"
           }
          ],
          "contourcarpet": [
           {
            "colorbar": {
             "outlinewidth": 0,
             "ticks": ""
            },
            "type": "contourcarpet"
           }
          ],
          "heatmap": [
           {
            "colorbar": {
             "outlinewidth": 0,
             "ticks": ""
            },
            "colorscale": [
             [
              0,
              "#0d0887"
             ],
             [
              0.1111111111111111,
              "#46039f"
             ],
             [
              0.2222222222222222,
              "#7201a8"
             ],
             [
              0.3333333333333333,
              "#9c179e"
             ],
             [
              0.4444444444444444,
              "#bd3786"
             ],
             [
              0.5555555555555556,
              "#d8576b"
             ],
             [
              0.6666666666666666,
              "#ed7953"
             ],
             [
              0.7777777777777778,
              "#fb9f3a"
             ],
             [
              0.8888888888888888,
              "#fdca26"
             ],
             [
              1,
              "#f0f921"
             ]
            ],
            "type": "heatmap"
           }
          ],
          "histogram": [
           {
            "marker": {
             "pattern": {
              "fillmode": "overlay",
              "size": 10,
              "solidity": 0.2
             }
            },
            "type": "histogram"
           }
          ],
          "histogram2d": [
           {
            "colorbar": {
             "outlinewidth": 0,
             "ticks": ""
            },
            "colorscale": [
             [
              0,
              "#0d0887"
             ],
             [
              0.1111111111111111,
              "#46039f"
             ],
             [
              0.2222222222222222,
              "#7201a8"
             ],
             [
              0.3333333333333333,
              "#9c179e"
             ],
             [
              0.4444444444444444,
              "#bd3786"
             ],
             [
              0.5555555555555556,
              "#d8576b"
             ],
             [
              0.6666666666666666,
              "#ed7953"
             ],
             [
              0.7777777777777778,
              "#fb9f3a"
             ],
             [
              0.8888888888888888,
              "#fdca26"
             ],
             [
              1,
              "#f0f921"
             ]
            ],
            "type": "histogram2d"
           }
          ],
          "histogram2dcontour": [
           {
            "colorbar": {
             "outlinewidth": 0,
             "ticks": ""
            },
            "colorscale": [
             [
              0,
              "#0d0887"
             ],
             [
              0.1111111111111111,
              "#46039f"
             ],
             [
              0.2222222222222222,
              "#7201a8"
             ],
             [
              0.3333333333333333,
              "#9c179e"
             ],
             [
              0.4444444444444444,
              "#bd3786"
             ],
             [
              0.5555555555555556,
              "#d8576b"
             ],
             [
              0.6666666666666666,
              "#ed7953"
             ],
             [
              0.7777777777777778,
              "#fb9f3a"
             ],
             [
              0.8888888888888888,
              "#fdca26"
             ],
             [
              1,
              "#f0f921"
             ]
            ],
            "type": "histogram2dcontour"
           }
          ],
          "mesh3d": [
           {
            "colorbar": {
             "outlinewidth": 0,
             "ticks": ""
            },
            "type": "mesh3d"
           }
          ],
          "parcoords": [
           {
            "line": {
             "colorbar": {
              "outlinewidth": 0,
              "ticks": ""
             }
            },
            "type": "parcoords"
           }
          ],
          "pie": [
           {
            "automargin": true,
            "type": "pie"
           }
          ],
          "scatter": [
           {
            "fillpattern": {
             "fillmode": "overlay",
             "size": 10,
             "solidity": 0.2
            },
            "type": "scatter"
           }
          ],
          "scatter3d": [
           {
            "line": {
             "colorbar": {
              "outlinewidth": 0,
              "ticks": ""
             }
            },
            "marker": {
             "colorbar": {
              "outlinewidth": 0,
              "ticks": ""
             }
            },
            "type": "scatter3d"
           }
          ],
          "scattercarpet": [
           {
            "marker": {
             "colorbar": {
              "outlinewidth": 0,
              "ticks": ""
             }
            },
            "type": "scattercarpet"
           }
          ],
          "scattergeo": [
           {
            "marker": {
             "colorbar": {
              "outlinewidth": 0,
              "ticks": ""
             }
            },
            "type": "scattergeo"
           }
          ],
          "scattergl": [
           {
            "marker": {
             "colorbar": {
              "outlinewidth": 0,
              "ticks": ""
             }
            },
            "type": "scattergl"
           }
          ],
          "scattermap": [
           {
            "marker": {
             "colorbar": {
              "outlinewidth": 0,
              "ticks": ""
             }
            },
            "type": "scattermap"
           }
          ],
          "scattermapbox": [
           {
            "marker": {
             "colorbar": {
              "outlinewidth": 0,
              "ticks": ""
             }
            },
            "type": "scattermapbox"
           }
          ],
          "scatterpolar": [
           {
            "marker": {
             "colorbar": {
              "outlinewidth": 0,
              "ticks": ""
             }
            },
            "type": "scatterpolar"
           }
          ],
          "scatterpolargl": [
           {
            "marker": {
             "colorbar": {
              "outlinewidth": 0,
              "ticks": ""
             }
            },
            "type": "scatterpolargl"
           }
          ],
          "scatterternary": [
           {
            "marker": {
             "colorbar": {
              "outlinewidth": 0,
              "ticks": ""
             }
            },
            "type": "scatterternary"
           }
          ],
          "surface": [
           {
            "colorbar": {
             "outlinewidth": 0,
             "ticks": ""
            },
            "colorscale": [
             [
              0,
              "#0d0887"
             ],
             [
              0.1111111111111111,
              "#46039f"
             ],
             [
              0.2222222222222222,
              "#7201a8"
             ],
             [
              0.3333333333333333,
              "#9c179e"
             ],
             [
              0.4444444444444444,
              "#bd3786"
             ],
             [
              0.5555555555555556,
              "#d8576b"
             ],
             [
              0.6666666666666666,
              "#ed7953"
             ],
             [
              0.7777777777777778,
              "#fb9f3a"
             ],
             [
              0.8888888888888888,
              "#fdca26"
             ],
             [
              1,
              "#f0f921"
             ]
            ],
            "type": "surface"
           }
          ],
          "table": [
           {
            "cells": {
             "fill": {
              "color": "#EBF0F8"
             },
             "line": {
              "color": "white"
             }
            },
            "header": {
             "fill": {
              "color": "#C8D4E3"
             },
             "line": {
              "color": "white"
             }
            },
            "type": "table"
           }
          ]
         },
         "layout": {
          "annotationdefaults": {
           "arrowcolor": "#2a3f5f",
           "arrowhead": 0,
           "arrowwidth": 1
          },
          "autotypenumbers": "strict",
          "coloraxis": {
           "colorbar": {
            "outlinewidth": 0,
            "ticks": ""
           }
          },
          "colorscale": {
           "diverging": [
            [
             0,
             "#8e0152"
            ],
            [
             0.1,
             "#c51b7d"
            ],
            [
             0.2,
             "#de77ae"
            ],
            [
             0.3,
             "#f1b6da"
            ],
            [
             0.4,
             "#fde0ef"
            ],
            [
             0.5,
             "#f7f7f7"
            ],
            [
             0.6,
             "#e6f5d0"
            ],
            [
             0.7,
             "#b8e186"
            ],
            [
             0.8,
             "#7fbc41"
            ],
            [
             0.9,
             "#4d9221"
            ],
            [
             1,
             "#276419"
            ]
           ],
           "sequential": [
            [
             0,
             "#0d0887"
            ],
            [
             0.1111111111111111,
             "#46039f"
            ],
            [
             0.2222222222222222,
             "#7201a8"
            ],
            [
             0.3333333333333333,
             "#9c179e"
            ],
            [
             0.4444444444444444,
             "#bd3786"
            ],
            [
             0.5555555555555556,
             "#d8576b"
            ],
            [
             0.6666666666666666,
             "#ed7953"
            ],
            [
             0.7777777777777778,
             "#fb9f3a"
            ],
            [
             0.8888888888888888,
             "#fdca26"
            ],
            [
             1,
             "#f0f921"
            ]
           ],
           "sequentialminus": [
            [
             0,
             "#0d0887"
            ],
            [
             0.1111111111111111,
             "#46039f"
            ],
            [
             0.2222222222222222,
             "#7201a8"
            ],
            [
             0.3333333333333333,
             "#9c179e"
            ],
            [
             0.4444444444444444,
             "#bd3786"
            ],
            [
             0.5555555555555556,
             "#d8576b"
            ],
            [
             0.6666666666666666,
             "#ed7953"
            ],
            [
             0.7777777777777778,
             "#fb9f3a"
            ],
            [
             0.8888888888888888,
             "#fdca26"
            ],
            [
             1,
             "#f0f921"
            ]
           ]
          },
          "colorway": [
           "#636efa",
           "#EF553B",
           "#00cc96",
           "#ab63fa",
           "#FFA15A",
           "#19d3f3",
           "#FF6692",
           "#B6E880",
           "#FF97FF",
           "#FECB52"
          ],
          "font": {
           "color": "#2a3f5f"
          },
          "geo": {
           "bgcolor": "white",
           "lakecolor": "white",
           "landcolor": "#E5ECF6",
           "showlakes": true,
           "showland": true,
           "subunitcolor": "white"
          },
          "hoverlabel": {
           "align": "left"
          },
          "hovermode": "closest",
          "mapbox": {
           "style": "light"
          },
          "paper_bgcolor": "white",
          "plot_bgcolor": "#E5ECF6",
          "polar": {
           "angularaxis": {
            "gridcolor": "white",
            "linecolor": "white",
            "ticks": ""
           },
           "bgcolor": "#E5ECF6",
           "radialaxis": {
            "gridcolor": "white",
            "linecolor": "white",
            "ticks": ""
           }
          },
          "scene": {
           "xaxis": {
            "backgroundcolor": "#E5ECF6",
            "gridcolor": "white",
            "gridwidth": 2,
            "linecolor": "white",
            "showbackground": true,
            "ticks": "",
            "zerolinecolor": "white"
           },
           "yaxis": {
            "backgroundcolor": "#E5ECF6",
            "gridcolor": "white",
            "gridwidth": 2,
            "linecolor": "white",
            "showbackground": true,
            "ticks": "",
            "zerolinecolor": "white"
           },
           "zaxis": {
            "backgroundcolor": "#E5ECF6",
            "gridcolor": "white",
            "gridwidth": 2,
            "linecolor": "white",
            "showbackground": true,
            "ticks": "",
            "zerolinecolor": "white"
           }
          },
          "shapedefaults": {
           "line": {
            "color": "#2a3f5f"
           }
          },
          "ternary": {
           "aaxis": {
            "gridcolor": "white",
            "linecolor": "white",
            "ticks": ""
           },
           "baxis": {
            "gridcolor": "white",
            "linecolor": "white",
            "ticks": ""
           },
           "bgcolor": "#E5ECF6",
           "caxis": {
            "gridcolor": "white",
            "linecolor": "white",
            "ticks": ""
           }
          },
          "title": {
           "x": 0.05
          },
          "xaxis": {
           "automargin": true,
           "gridcolor": "white",
           "linecolor": "white",
           "ticks": "",
           "title": {
            "standoff": 15
           },
           "zerolinecolor": "white",
           "zerolinewidth": 2
          },
          "yaxis": {
           "automargin": true,
           "gridcolor": "white",
           "linecolor": "white",
           "ticks": "",
           "title": {
            "standoff": 15
           },
           "zerolinecolor": "white",
           "zerolinewidth": 2
          }
         }
        },
        "width": 800
       }
      }
     },
     "metadata": {},
     "output_type": "display_data"
    }
   ],
   "source": [
    "plot_revenue_per_state(revenue_per_state)"
   ]
  },
  {
   "cell_type": "code",
   "execution_count": 29,
   "metadata": {},
   "outputs": [],
   "source": [
    "# se renombran las columnas ya que la funcion espera State y Delivery_Difference\n",
    "delivery_date_difference = delivery_date_difference.rename(columns={\n",
    "    \"Estado\": \"State\",\n",
    "    \"Diferencia_Entrega\": \"Delivery_Difference\"\n",
    "})\n"
   ]
  },
  {
   "cell_type": "code",
   "execution_count": 30,
   "metadata": {},
   "outputs": [
    {
     "data": {
      "image/png": "[encoded data removed]",
      "text/plain": [
       "<Figure size 640x480 with 1 Axes>"
      ]
     },
     "metadata": {},
     "output_type": "display_data"
    }
   ],
   "source": [
    "plot_delivery_date_difference(delivery_date_difference)"
   ]
  },
  {
   "cell_type": "code",
   "execution_count": 31,
   "metadata": {},
   "outputs": [
    {
     "data": {
      "image/png": "[encoded data removed]",
      "text/plain": [
       "<Figure size 1200x600 with 2 Axes>"
      ]
     },
     "metadata": {},
     "output_type": "display_data"
    }
   ],
   "source": [
    "plot_real_vs_predicted_delivered_time(real_vs_estimated_delivered_time, year=2017)"
   ]
  },
  {
   "cell_type": "code",
   "execution_count": 32,
   "metadata": {},
   "outputs": [],
   "source": [
    "# se renombran las columnas ya que la funcion espera order_status y Ammount\n",
    "global_ammount_order_status = global_ammount_order_status.rename(columns={\n",
    "    \"estado_pedido\": \"order_status\",\n",
    "    \"Cantidad\": \"Ammount\"\n",
    "})"
   ]
  },
  {
   "cell_type": "code",
   "execution_count": 33,
   "metadata": {},
   "outputs": [
    {
     "name": "stdout",
     "output_type": "stream",
     "text": [
      "  order_status  Ammount\n",
      "0     approved        2\n",
      "1     canceled      625\n",
      "2      created        5\n",
      "3    delivered    96478\n",
      "4     invoiced      314\n",
      "5   processing      301\n",
      "6      shipped     1107\n",
      "7  unavailable      609\n"
     ]
    }
   ],
   "source": [
    "print(global_ammount_order_status)"
   ]
  },
  {
   "cell_type": "code",
   "execution_count": 34,
   "metadata": {},
   "outputs": [
    {
     "data": {
      "image/png": "[encoded data removed]",
      "text/plain": [
       "<Figure size 600x300 with 1 Axes>"
      ]
     },
     "metadata": {},
     "output_type": "display_data"
    }
   ],
   "source": [
    "plot_global_amount_order_status(global_ammount_order_status)"
   ]
  },
  {
   "cell_type": "code",
   "execution_count": 35,
   "metadata": {},
   "outputs": [
    {
     "name": "stdout",
     "output_type": "stream",
     "text": [
      "        date  order_count  holiday\n",
      "0 2017-01-05           32    False\n",
      "1 2017-01-06            4    False\n",
      "2 2017-01-07            4    False\n",
      "3 2017-01-08            6    False\n",
      "4 2017-01-09            5    False\n",
      "                           order_id  total_freight_value  total_weight\n",
      "0  00010242fe8c5a6d1ba2dd792cb16214                13.29         650.0\n",
      "1  00018f77f2f0320c557190d7a144bdd3                19.93       30000.0\n",
      "2  000229ec398224ef6ca0657da4fc703e                17.87        3050.0\n",
      "3  00024acbcdf0a6daa1e931b038114c75                12.79         200.0\n",
      "4  00042b26cf59d7ce69dfabb4e55b4fd9                18.14        3750.0\n"
     ]
    }
   ],
   "source": [
    "print(query_results[\"orders_per_day_and_holidays_2017\"].head())\n",
    "print(query_results[\"get_freight_value_weight_relationship\"].head())\n"
   ]
  },
  {
   "cell_type": "code",
   "execution_count": 36,
   "metadata": {},
   "outputs": [
    {
     "data": {
      "image/png": "[encoded data removed]",
      "text/plain": [
       "<Figure size 1200x600 with 1 Axes>"
      ]
     },
     "metadata": {},
     "output_type": "display_data"
    }
   ],
   "source": [
    "plot_order_amount_per_day_with_holidays(orders_per_day_and_holidays)"
   ]
  },
  {
   "attachments": {},
   "cell_type": "markdown",
   "metadata": {},
   "source": [
    "El gráfico de Pedidos por Día y Días Festivos que programarás en **src/plots.py** debe ser similar a este:"
   ]
  },
  {
   "attachments": {},
   "cell_type": "markdown",
   "metadata": {},
   "source": [
    "![The plot you will code will be similar to this:](images/orders_per_day_and_holidays.png \"Orders per Day and Holidays\")"
   ]
  },
  {
   "attachments": {},
   "cell_type": "markdown",
   "metadata": {},
   "source": [
    "4.1 ¿Ves alguna relación entre los días festivos en Brasil durante 2017 y las compras de ese año?"
   ]
  },
  {
   "cell_type": "markdown",
   "metadata": {},
   "source": [
    "Respuesta: Sí, se observa que los días festivos no tienen un impacto directo en los pedidos diarios, aunque hay un pico de pedidos en noviembre, que probablemente esta relacionado con el Black Friday,  Los días festivos no muestran una reducción de pedidos, lo que sugiere es que los consumidores en Brasil pueden seguir comprando online sin importar estos días."
   ]
  },
  {
   "cell_type": "code",
   "execution_count": 37,
   "metadata": {},
   "outputs": [
    {
     "data": {
      "image/png": "[encoded data removed]",
      "text/plain": [
       "<Figure size 1000x600 with 1 Axes>"
      ]
     },
     "metadata": {},
     "output_type": "display_data"
    }
   ],
   "source": [
    "plot_freight_value_weight_relationship(freight_value_weight_relationship)"
   ]
  },
  {
   "attachments": {},
   "cell_type": "markdown",
   "metadata": {},
   "source": [
    "El gráfico sobre la relación entre el valor del flete y el peso del producto que debes programar en `src/plots.py` tiene que ser similar a este:"
   ]
  },
  {
   "attachments": {},
   "cell_type": "markdown",
   "metadata": {},
   "source": [
    "![The plot you will code will be similar to this:](images/freight_value_weight_relationship.png \"Freight Value and Weight Relationship\")"
   ]
  },
  {
   "attachments": {},
   "cell_type": "markdown",
   "metadata": {},
   "source": [
    "4.2 ¿Ves alguna correlación entre el valor del flete y el peso del producto?"
   ]
  },
  {
   "cell_type": "markdown",
   "metadata": {},
   "source": [
    "Respuesta: no hay una correlación clara entre el valor del flete y el peso del producto, la mayoría de los envíos son livianos y tienen costos de flete relativamente bajos."
   ]
  },
  {
   "cell_type": "markdown",
   "metadata": {},
   "source": []
  }
 ],
 "metadata": {
  "kernelspec": {
   "display_name": "Python 3",
   "language": "python",
   "name": "python3"
  },
  "language_info": {
   "codemirror_mode": {
    "name": "ipython",
    "version": 3
   },
   "file_extension": ".py",
   "mimetype": "text/x-python",
   "name": "python",
   "nbconvert_exporter": "python",
   "pygments_lexer": "ipython3",
   "version": "3.10.16"
  },
  "orig_nbformat": 4
 },
 "nbformat": 4,
 "nbformat_minor": 2
}
